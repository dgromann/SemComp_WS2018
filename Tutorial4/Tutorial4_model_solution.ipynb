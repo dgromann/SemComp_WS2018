{
  "nbformat": 4,
  "nbformat_minor": 0,
  "metadata": {
    "colab": {
      "name": "Tutorial4_model_solution.ipynb",
      "version": "0.3.2",
      "provenance": [],
      "collapsed_sections": [],
      "include_colab_link": true
    },
    "kernelspec": {
      "display_name": "Python 3",
      "language": "python",
      "name": "python3"
    }
  },
  "cells": [
    {
      "cell_type": "markdown",
      "metadata": {
        "id": "view-in-github",
        "colab_type": "text"
      },
      "source": [
        "<a href=\"https://colab.research.google.com/github/dgromann/SemComp_WS2018/blob/master/Tutorial4/Tutorial4_model_solution.ipynb\" target=\"_parent\"><img src=\"https://colab.research.google.com/assets/colab-badge.svg\" alt=\"Open In Colab\"/></a>"
      ]
    },
    {
      "metadata": {
        "id": "lFEqppcUwSNJ",
        "colab_type": "text"
      },
      "cell_type": "markdown",
      "source": [
        "\n",
        "# Lesson 0.0.0: Store this notebook! \n",
        "\n",
        "Go to \"File\" and make sure you store this file as a local copy to either GitHub or your Google Drive. If you do not have a Google account and also do not want to create one, please check Option C below. "
      ]
    },
    {
      "metadata": {
        "id": "BR9-SgVCwcQ7",
        "colab_type": "text"
      },
      "cell_type": "markdown",
      "source": [
        "Option A) Google Drive WITH collaboration\n",
        "\n",
        "If you want to work in a collaborative manner where each of you in the group can see each other's contributions, one of you needs to store the notebook in Google Drive and share it with the others. You share it by clicking on the SHARE button on the top right of this page and share the link with the \"everyone who receives this link can edit\" option with the other team members per e-mail, skype, or any other way you prefer.\n",
        "\n",
        "If you work with others, keep in mind to always copy the code before you edit it and always indicate your name as a comment (e.g. #Dagmar ) in the cell that it is clear who wrote which part. I also recommend creating a new code cell for your contributions.\n"
      ]
    },
    {
      "metadata": {
        "id": "WGEgRtrswhRi",
        "colab_type": "text"
      },
      "cell_type": "markdown",
      "source": [
        "Option B) Github without collaboration\n",
        "\n",
        "Collaborative functions are not available when storing the notebook in GitHub; you will see your own work but not that of others.\n"
      ]
    },
    {
      "metadata": {
        "id": "PJ9KabMwwnMW",
        "colab_type": "text"
      },
      "cell_type": "markdown",
      "source": [
        "Option C) Download this notebook as ipynb (Jupyter notebook) or py (Python file)\n",
        "\n",
        "To run either of these on your local machine requires the installation of the required programs, which for the first tutorial are Python and NLTK. This will become more as we continue on to machine learning (requiring sklearn) and deep learning (requiring tensorflow and/or pytorch). In Google Codelab all of these are provided and do not need to be installed locally."
      ]
    },
    {
      "metadata": {
        "id": "3TQoynx7tVdU",
        "colab_type": "text"
      },
      "cell_type": "markdown",
      "source": [
        "# Lesson 1: Support Vector Machines (SVM)"
      ]
    },
    {
      "metadata": {
        "id": "v8A6Q6FvtVdh",
        "colab_type": "text"
      },
      "cell_type": "markdown",
      "source": [
        "Support vector machines (SVMs) are a particularly powerful and flexible class of supervised algorithms for both classification and regression.\n"
      ]
    },
    {
      "metadata": {
        "id": "DhzNd7aWtVdj",
        "colab_type": "code",
        "colab": {}
      },
      "cell_type": "code",
      "source": [
        "import numpy as np\n",
        "import matplotlib.pyplot as plt\n",
        "from scipy import stats\n",
        "from sklearn import datasets\n",
        "from sklearn.model_selection import train_test_split\n",
        "from sklearn import metrics\n",
        "\n",
        "# import the different types of SVMs\n",
        "from sklearn import svm\n",
        "\n",
        "# import for parameter fine-tuning\n",
        "from sklearn.model_selection import GridSearchCV\n",
        "\n",
        "# use seaborn plotting defaults\n",
        "import seaborn as sns; sns.set()"
      ],
      "execution_count": 0,
      "outputs": []
    },
    {
      "metadata": {
        "id": "IZrABIkztVd-",
        "colab_type": "text"
      },
      "cell_type": "markdown",
      "source": [
        "As an example, let's first look at one of the simplest classification tasks, namely, the binary classification with \n",
        "linearly separable data:"
      ]
    },
    {
      "metadata": {
        "id": "m9HS-SxEtVeF",
        "colab_type": "code",
        "outputId": "493d8993-6281-48c9-9873-9b76d78b9024",
        "colab": {
          "base_uri": "https://localhost:8080/",
          "height": 347
        }
      },
      "cell_type": "code",
      "source": [
        "from sklearn.datasets.samples_generator import make_blobs\n",
        "X, y = make_blobs(n_samples=50, centers=2,\n",
        "                  random_state=0, cluster_std=0.60)\n",
        "plt.scatter(X[:, 0], X[:, 1], c=y, s=50, cmap='autumn');"
      ],
      "execution_count": 0,
      "outputs": [
        {
          "output_type": "display_data",
          "data": {
            "image/png": "[encoded data removed]",
            "text/plain": [
              "<matplotlib.figure.Figure at 0x7f452939beb8>"
            ]
          },
          "metadata": {
            "tags": []
          }
        }
      ]
    },
    {
      "metadata": {
        "id": "FfuGpPEKg57_",
        "colab_type": "text"
      },
      "cell_type": "markdown",
      "source": [
        "However, the dataset that we will use today is not that easy to classify if you look at the visualization below."
      ]
    },
    {
      "metadata": {
        "id": "oG4cPZ9_gPpm",
        "colab_type": "code",
        "outputId": "f2e309c7-de02-47f2-9742-0e390dcba0b9",
        "colab": {
          "base_uri": "https://localhost:8080/",
          "height": 541
        }
      },
      "cell_type": "code",
      "source": [
        "# Load dataset\n",
        "cancer = datasets.load_breast_cancer()\n",
        "\n",
        "# Let's look at the dataset \n",
        "print(\"Feature: \", cancer.feature_names)\n",
        "print(\"Labels: \", cancer.target_names)\n",
        "\n",
        "print(\"Shape: \", cancer.data.shape)\n",
        "\n",
        "X = cancer.data\n",
        "y = cancer.target\n",
        "\n",
        "#Exercise: Visualize our dataset (you can use the visualization from above)\n",
        "plt.scatter(X[:, 0], X[:, 1], c=y, s=10, cmap='autumn');"
      ],
      "execution_count": 0,
      "outputs": [
        {
          "output_type": "stream",
          "text": [
            "Feature:  ['mean radius' 'mean texture' 'mean perimeter' 'mean area'\n",
            " 'mean smoothness' 'mean compactness' 'mean concavity'\n",
            " 'mean concave points' 'mean symmetry' 'mean fractal dimension'\n",
            " 'radius error' 'texture error' 'perimeter error' 'area error'\n",
            " 'smoothness error' 'compactness error' 'concavity error'\n",
            " 'concave points error' 'symmetry error' 'fractal dimension error'\n",
            " 'worst radius' 'worst texture' 'worst perimeter' 'worst area'\n",
            " 'worst smoothness' 'worst compactness' 'worst concavity'\n",
            " 'worst concave points' 'worst symmetry' 'worst fractal dimension']\n",
            "Labels:  ['malignant' 'benign']\n",
            "Shape:  (569, 30)\n"
          ],
          "name": "stdout"
        },
        {
          "output_type": "display_data",
          "data": {
            "image/png": "[encoded data removed]",
            "text/plain": [
              "<matplotlib.figure.Figure at 0x7f434fadbda0>"
            ]
          },
          "metadata": {
            "tags": []
          }
        }
      ]
    },
    {
      "metadata": {
        "id": "NESKeyRVhcNc",
        "colab_type": "text"
      },
      "cell_type": "markdown",
      "source": [
        "Work on the cancer dataset. First split the dataset and then train a linear classifier. "
      ]
    },
    {
      "metadata": {
        "id": "I0tf6eknhiNC",
        "colab_type": "code",
        "colab": {}
      },
      "cell_type": "code",
      "source": [
        "# Exercise: Split the dataset into 70% training set and \n",
        "# 30% test set \n",
        "X_train, X_test, y_train, y_test = train_test_split(cancer.data, cancer.target, test_size=0.3,random_state=109)\n"
      ],
      "execution_count": 0,
      "outputs": []
    },
    {
      "metadata": {
        "id": "-ZeWSAT_ihuO",
        "colab_type": "code",
        "colab": {}
      },
      "cell_type": "code",
      "source": [
        "# Exercise: initialize and train a SVM with a linear kernel and predict \n",
        "# the labels for the cancer dataset\n",
        "# https://scikit-learn.org/stable/modules/generated/sklearn.svm.SVC.html\n",
        "clf = svm.SVC(kernel='linear')\n",
        "clf.fit(X_train, y_train)\n",
        "y_pred = clf.predict(X_test)"
      ],
      "execution_count": 0,
      "outputs": []
    },
    {
      "metadata": {
        "id": "v3UVdpoCn01y",
        "colab_type": "code",
        "outputId": "ac226575-56c9-47a2-981e-88fb86951be2",
        "colab": {
          "base_uri": "https://localhost:8080/",
          "height": 70
        }
      },
      "cell_type": "code",
      "source": [
        "# Exercise: evaluate your model using the imported metrics library\n",
        "print(\"Accuracy:\",metrics.accuracy_score(y_test, y_pred))\n",
        "\n",
        "# Exercise: also check Precision and Recall using the same libary\n",
        "# How can those two be interpreted?\n",
        "print(\"Precision:\",metrics.precision_score(y_test, y_pred))\n",
        "print(\"Recall:\",metrics.recall_score(y_test, y_pred))"
      ],
      "execution_count": 0,
      "outputs": [
        {
          "output_type": "stream",
          "text": [
            "Accuracy: 0.9649122807017544\n",
            "Precision: 0.9811320754716981\n",
            "Recall: 0.9629629629629629\n"
          ],
          "name": "stdout"
        }
      ]
    },
    {
      "metadata": {
        "id": "ZIXk5YunnxA0",
        "colab_type": "code",
        "colab": {}
      },
      "cell_type": "code",
      "source": [
        "# Exercise: train a SVM classifier with a polynomial or RBF kernel\n",
        "# on the same dataset and compare the result\n",
        "# https://scikit-learn.org/stable/modules/generated/sklearn.svm.SVC.html\n",
        "clf_rbf = svm.SVC(kernel='rbf')\n",
        "clf_rbf.fit(X_train, y_train)\n",
        "y_pred_rbf = clf_rbf.predict(X_test)"
      ],
      "execution_count": 0,
      "outputs": []
    },
    {
      "metadata": {
        "id": "JfL9Bubgm1eF",
        "colab_type": "code",
        "outputId": "28d751d9-7d3f-42a5-a7f1-1ff70ea06056",
        "colab": {
          "base_uri": "https://localhost:8080/",
          "height": 70
        }
      },
      "cell_type": "code",
      "source": [
        "# Exercise: evaluate your model using the imported metrics library\n",
        "print(\"Accuracy:\",metrics.accuracy_score(y_test, y_pred_rbf))\n",
        "\n",
        "# Exercise: also check Precision and Recall using the same libary\n",
        "# How can those two be interpreted?\n",
        "print(\"Precision:\",metrics.precision_score(y_test, y_pred_rbf))\n",
        "print(\"Recall:\",metrics.recall_score(y_test, y_pred_rbf))\n",
        "\n",
        "# Exercise: compare the metrics of the linear and the rbf classifier\n",
        "# Can you explain the difference?"
      ],
      "execution_count": 0,
      "outputs": [
        {
          "output_type": "stream",
          "text": [
            "Accuracy: 0.631578947368421\n",
            "Precision: 0.631578947368421\n",
            "Recall: 1.0\n"
          ],
          "name": "stdout"
        }
      ]
    },
    {
      "metadata": {
        "id": "wNXDwAiyqIN7",
        "colab_type": "code",
        "outputId": "d0d3069a-d31a-49b4-c21b-59a5436d82f2",
        "colab": {
          "base_uri": "https://localhost:8080/",
          "height": 70
        }
      },
      "cell_type": "code",
      "source": [
        "# Exercise: parameter fine-tuning\n",
        "# Use GriDSearchCV to test the different parameter settings\n",
        "# for linear and rbf kernels\n",
        "\n",
        "classifier = svm.SVC()\n",
        "\n",
        "\n",
        "param_grid = [\n",
        "  {'C': [1, 10, 100, 1000], 'kernel': ['linear']},\n",
        "  {'C': [1, 10, 100, 1000], 'gamma': [0.001, 0.0001], 'kernel': ['rbf']},\n",
        " ]\n",
        "\n",
        "gs_clf_svm = GridSearchCV(classifier, param_grid)\n",
        "gs_clf_svm = gs_clf_svm.fit(X_train, y_train)\n",
        "print(\"Best score achieved with fine-tuning SVN:\", gs_clf_svm.best_score_)\n",
        "print(\"Best parameter settings for SGD: \", gs_clf_svm.best_params_)\n",
        "print()"
      ],
      "execution_count": 0,
      "outputs": [
        {
          "output_type": "stream",
          "text": [
            "Best score achieved with fine-tuning SVN: 0.9597989949748744\n",
            "Best parameter settings for SGD:  {'C': 1, 'kernel': 'linear'}\n",
            "\n"
          ],
          "name": "stdout"
        }
      ]
    },
    {
      "metadata": {
        "id": "2csTdgiRsiKP",
        "colab_type": "code",
        "outputId": "11065c81-0569-4ce0-eff3-ec836b5d46b6",
        "colab": {
          "base_uri": "https://localhost:8080/",
          "height": 347
        }
      },
      "cell_type": "code",
      "source": [
        "# Let's try this with a different dataset - run this cell to visualize it \n",
        "from sklearn.datasets.samples_generator import make_circles\n",
        "X, y = make_circles(100, factor=.1, noise=.1)\n",
        "\n",
        "plt.scatter(X[:, 0], X[:, 1], c=y, s=50, cmap='autumn');"
      ],
      "execution_count": 0,
      "outputs": [
        {
          "output_type": "display_data",
          "data": {
            "image/png": "[encoded data removed]",
            "text/plain": [
              "<matplotlib.figure.Figure at 0x7f434faa81d0>"
            ]
          },
          "metadata": {
            "tags": []
          }
        }
      ]
    },
    {
      "metadata": {
        "id": "z0QsTppWthpk",
        "colab_type": "code",
        "outputId": "9b7fff59-1987-4609-e7d0-0da44df06e4a",
        "colab": {
          "base_uri": "https://localhost:8080/",
          "height": 70
        }
      },
      "cell_type": "code",
      "source": [
        "# Exercise: Do the grid search on this dataset using higher levels \n",
        "# of C to increase the penalty on prediction errors \n",
        "classifier = svm.SVC()\n",
        "\n",
        "\n",
        "param_grid = [\n",
        "  {'C': [1, 10, 100, 1000, 1000000], 'kernel': ['linear']},\n",
        "  {'C': [1, 10, 100, 1000, 1000000], 'gamma': [0.001, 0.0001], 'kernel': ['rbf']},\n",
        " ]\n",
        "\n",
        "gs_clf_svm = GridSearchCV(classifier, param_grid)\n",
        "gs_clf_svm = gs_clf_svm.fit(X, y)\n",
        "print(\"Best score achieved with fine-tuning SVM:\", gs_clf_svm.best_score_)\n",
        "print(\"Best parameter settings for SGD: \", gs_clf_svm.best_params_)\n",
        "print()"
      ],
      "execution_count": 0,
      "outputs": [
        {
          "output_type": "stream",
          "text": [
            "Best score achieved with fine-tuning SVM: 1.0\n",
            "Best parameter settings for SGD:  {'C': 1000000, 'gamma': 0.001, 'kernel': 'rbf'}\n",
            "\n"
          ],
          "name": "stdout"
        }
      ]
    },
    {
      "metadata": {
        "id": "0c7OuSQS23Es",
        "colab_type": "text"
      },
      "cell_type": "markdown",
      "source": [
        "The results of the classifier can also be shown as a confusion matrix. This becomes particulalry interesting for a multiclass \n",
        "classification problem, but can also be used for a binary classification as below.."
      ]
    },
    {
      "metadata": {
        "id": "wFGVNdB11dEs",
        "colab_type": "code",
        "outputId": "32918677-b17c-45e6-d065-e5792c92d0e6",
        "colab": {
          "base_uri": "https://localhost:8080/",
          "height": 361
        }
      },
      "cell_type": "code",
      "source": [
        "# Printing a confusion matrix of the results\n",
        "from sklearn.metrics import confusion_matrix\n",
        "mat = confusion_matrix(y_test, y_pred)\n",
        "sns.heatmap(mat.T, square=True, annot=True, fmt='d', cbar=False, \n",
        "            xticklabels=cancer.target_names.tolist(), \n",
        "            yticklabels=cancer.target_names.tolist())\n",
        "plt.xlabel('true label')\n",
        "plt.ylabel('predicted label');"
      ],
      "execution_count": 0,
      "outputs": [
        {
          "output_type": "display_data",
          "data": {
            "image/png": "[encoded data removed]",
            "text/plain": [
              "<matplotlib.figure.Figure at 0x7f434c18ffd0>"
            ]
          },
          "metadata": {
            "tags": []
          }
        }
      ]
    },
    {
      "metadata": {
        "id": "GGFc4y09uje2",
        "colab_type": "text"
      },
      "cell_type": "markdown",
      "source": [
        "# Lesson 2: Text classification - classifier comparison"
      ]
    },
    {
      "metadata": {
        "id": "UaPwMFfsuoa_",
        "colab_type": "text"
      },
      "cell_type": "markdown",
      "source": [
        "Since we are mostly interested in text, let's classify text and compare SVMs with decision trees and random forrests."
      ]
    },
    {
      "metadata": {
        "id": "dKaYryYHvfpK",
        "colab_type": "code",
        "outputId": "db075276-3de3-4ed0-a798-46a1d1185c8d",
        "colab": {
          "base_uri": "https://localhost:8080/",
          "height": 53
        }
      },
      "cell_type": "code",
      "source": [
        "# Feel free to use the tweets from Tutorial 3 instead of this standard \n",
        "# dataset in this exercise \n",
        "from sklearn.datasets import fetch_20newsgroups\n",
        "\n",
        "# import Decision Tree and Rrandom Forrest classifiers\n",
        "from sklearn.tree import DecisionTreeClassifier\n",
        "from sklearn.ensemble import RandomForestClassifier\n",
        "from sklearn.naive_bayes import MultinomialNB\n",
        "\n",
        "categories =  ['alt.atheism', 'soc.religion.christian', 'comp.graphics', 'sci.med']\n",
        "\n",
        "twenty_train = fetch_20newsgroups(subset='train', categories=categories, shuffle=True, random_state=42)\n",
        "twenty_test = fetch_20newsgroups(subset='test', categories=categories, shuffle=True, random_state=42)\n"
      ],
      "execution_count": 0,
      "outputs": [
        {
          "output_type": "stream",
          "text": [
            "Downloading 20news dataset. This may take a few minutes.\n",
            "Downloading dataset from https://ndownloader.figshare.com/files/5975967 (14 MB)\n"
          ],
          "name": "stderr"
        }
      ]
    },
    {
      "metadata": {
        "id": "XxkrNddHwjhD",
        "colab_type": "code",
        "colab": {}
      },
      "cell_type": "code",
      "source": [
        "# Exercise: provide the necessary imports to prepare a text \n",
        "# dataset - that is turn it into features\n",
        "from sklearn.feature_extraction.text import CountVectorizer\n",
        "from sklearn.feature_extraction.text import TfidfTransformer\n",
        "from sklearn.pipeline import Pipeline"
      ],
      "execution_count": 0,
      "outputs": []
    },
    {
      "metadata": {
        "id": "h8m5HKRvvw8R",
        "colab_type": "code",
        "colab": {}
      },
      "cell_type": "code",
      "source": [
        "# Exercise: prepare the dataset by turning the text to features \n",
        "count_vec = CountVectorizer()\n",
        "X_train_count = count_vec.fit_transform(twenty_train.data)\n",
        "X_test_count = count_vec.transform(twenty_test.data)\n",
        "\n",
        "tfidf_vec = TfidfTransformer()\n",
        "X_train = tfidf_vec.fit_transform(X_train_count)\n",
        "X_test = tfidf_vec.transform(X_test_count)"
      ],
      "execution_count": 0,
      "outputs": []
    },
    {
      "metadata": {
        "id": "JM1nCT4vw88l",
        "colab_type": "code",
        "outputId": "dfac5aa5-923b-4bfc-f64e-c6a57ee9518a",
        "colab": {
          "base_uri": "https://localhost:8080/",
          "height": 89
        }
      },
      "cell_type": "code",
      "source": [
        "# Exercise: compare a linear and rbf kernel-based SVM \n",
        "# start with a small set of parameters \n",
        "\n",
        "clf_svm = svm.SVC()\n",
        "\n",
        "param_grid = [\n",
        "  {'C': [10, 100], 'kernel': ['linear']},\n",
        "  {'C': [10, 100], 'gamma': [0.001, 0.0001], 'kernel': ['rbf']},\n",
        " ]\n",
        "\n",
        "gs_clf_svm = GridSearchCV(clf_svm, param_grid)\n",
        "gs_clf_svm = gs_clf_svm.fit(X_train, twenty_train.target)\n",
        "print(\"Best score achieved with fine-tuning SVM:\", gs_clf_svm.best_score_)\n",
        "print(\"Best parameter settings for SGD: \", gs_clf_svm.best_params_)\n",
        "print()\n",
        "\n",
        "svm_optim = svm.SVC(C=10, kernel='linear')\n",
        "svm_optim = svm_optim.fit(X_train, twenty_train.target)\n",
        "svm_predict = svm_optim.predict(X_test)\n",
        "\n",
        "print(\"Decision Tree Accuracy:\", metrics.accuracy_score(twenty_test.target, svm_predict))\n"
      ],
      "execution_count": 18,
      "outputs": [
        {
          "output_type": "stream",
          "text": [
            "Best score achieved with fine-tuning SVM: 0.9658839167035889\n",
            "Best parameter settings for SGD:  {'C': 10, 'kernel': 'linear'}\n",
            "\n",
            "Decision Tree Accuracy: 0.9221038615179761\n"
          ],
          "name": "stdout"
        }
      ]
    },
    {
      "metadata": {
        "id": "Kr20sFuyxQD3",
        "colab_type": "code",
        "outputId": "c1412094-0992-47c3-d571-1f303520f8d8",
        "colab": {
          "base_uri": "https://localhost:8080/",
          "height": 89
        }
      },
      "cell_type": "code",
      "source": [
        "# Exercise: compare the above classifier to a decision tree classifier \n",
        "# Adapt the parameters correspondingly \n",
        "# If you wish you could also try on the RandomForrest classifier\n",
        "dt = DecisionTreeClassifier()\n",
        "\n",
        "param_dt = {'min_samples_split': [2, 20, 40]}\n",
        "gs_clf_dt = GridSearchCV(dt, param_dt)\n",
        "gs_clf_dt = gs_clf_dt.fit(X_train, twenty_train.target)\n",
        "print(\"Best score achieved with fine-tuning Decision Trees:\", gs_clf_dt.best_score_)\n",
        "print(\"Best parameter settings for Decision Trees: \", gs_clf_dt.best_params_)\n",
        "print()\n",
        "\n",
        "dt_optimized = DecisionTreeClassifier(min_samples_split=2)\n",
        "dt_optimized = dt_optimized.fit(X_train, twenty_train.target)\n",
        "dt_predict = dt_optimized.predict(X_test)\n",
        "\n",
        "\n",
        "print(\"Decision Tree Accuracy:\", metrics.accuracy_score(twenty_test.target, dt_predict))\n"
      ],
      "execution_count": 16,
      "outputs": [
        {
          "output_type": "stream",
          "text": [
            "Best score achieved with fine-tuning Decision Trees: 0.768276473194506\n",
            "Best parameter settings for Decision Trees:  {'min_samples_split': 2}\n",
            "\n",
            "Decision Tree Accuracy: 0.7170439414114514\n"
          ],
          "name": "stdout"
        }
      ]
    }
  ]
}