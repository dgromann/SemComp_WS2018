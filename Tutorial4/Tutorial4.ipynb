{
  "nbformat": 4,
  "nbformat_minor": 0,
  "metadata": {
    "colab": {
      "name": "Tutorial4.ipynb",
      "version": "0.3.2",
      "provenance": [],
      "collapsed_sections": [],
      "include_colab_link": true
    },
    "kernelspec": {
      "display_name": "Python 3",
      "language": "python",
      "name": "python3"
    }
  },
  "cells": [
    {
      "cell_type": "markdown",
      "metadata": {
        "id": "view-in-github",
        "colab_type": "text"
      },
      "source": [
        "<a href=\"https://colab.research.google.com/github/dgromann/SemComp_WS2018/blob/master/Tutorial4/Tutorial4.ipynb\" target=\"_parent\"><img src=\"https://colab.research.google.com/assets/colab-badge.svg\" alt=\"Open In Colab\"/></a>"
      ]
    },
    {
      "metadata": {
        "id": "lFEqppcUwSNJ",
        "colab_type": "text"
      },
      "cell_type": "markdown",
      "source": [
        "\n",
        "# Lesson 0.0.0: Store this notebook! \n",
        "\n",
        "Go to \"File\" and make sure you store this file as a local copy to either GitHub or your Google Drive. If you do not have a Google account and also do not want to create one, please check Option C below. "
      ]
    },
    {
      "metadata": {
        "id": "BR9-SgVCwcQ7",
        "colab_type": "text"
      },
      "cell_type": "markdown",
      "source": [
        "Option A) Google Drive WITH collaboration\n",
        "\n",
        "If you want to work in a collaborative manner where each of you in the group can see each other's contributions, one of you needs to store the notebook in Google Drive and share it with the others. You share it by clicking on the SHARE button on the top right of this page and share the link with the \"everyone who receives this link can edit\" option with the other team members per e-mail, skype, or any other way you prefer.\n",
        "\n",
        "If you work with others, keep in mind to always copy the code before you edit it and always indicate your name as a comment (e.g. #Dagmar ) in the cell that it is clear who wrote which part. I also recommend creating a new code cell for your contributions.\n"
      ]
    },
    {
      "metadata": {
        "id": "WGEgRtrswhRi",
        "colab_type": "text"
      },
      "cell_type": "markdown",
      "source": [
        "Option B) Github without collaboration\n",
        "\n",
        "Collaborative functions are not available when storing the notebook in GitHub; you will see your own work but not that of others.\n"
      ]
    },
    {
      "metadata": {
        "id": "PJ9KabMwwnMW",
        "colab_type": "text"
      },
      "cell_type": "markdown",
      "source": [
        "Option C) Download this notebook as ipynb (Jupyter notebook) or py (Python file)\n",
        "\n",
        "To run either of these on your local machine requires the installation of the required programs, which for the first tutorial are Python and NLTK. This will become more as we continue on to machine learning (requiring sklearn) and deep learning (requiring tensorflow and/or pytorch). In Google Codelab all of these are provided and do not need to be installed locally."
      ]
    },
    {
      "metadata": {
        "id": "3TQoynx7tVdU",
        "colab_type": "text"
      },
      "cell_type": "markdown",
      "source": [
        "# Lesson 1: Support Vector Machines (SVM)"
      ]
    },
    {
      "metadata": {
        "id": "v8A6Q6FvtVdh",
        "colab_type": "text"
      },
      "cell_type": "markdown",
      "source": [
        "Support vector machines (SVMs) are a particularly powerful and flexible class of supervised algorithms for both classification and regression.\n"
      ]
    },
    {
      "metadata": {
        "id": "DhzNd7aWtVdj",
        "colab_type": "code",
        "colab": {}
      },
      "cell_type": "code",
      "source": [
        "import numpy as np\n",
        "import matplotlib.pyplot as plt\n",
        "from scipy import stats\n",
        "from sklearn import datasets\n",
        "from sklearn.model_selection import train_test_split\n",
        "from sklearn import metrics\n",
        "\n",
        "# import the different types of SVMs\n",
        "from sklearn import svm\n",
        "\n",
        "# import for parameter fine-tuning\n",
        "from sklearn.model_selection import GridSearchCV\n",
        "\n",
        "# use seaborn plotting defaults\n",
        "import seaborn as sns; sns.set()"
      ],
      "execution_count": 0,
      "outputs": []
    },
    {
      "metadata": {
        "id": "IZrABIkztVd-",
        "colab_type": "text"
      },
      "cell_type": "markdown",
      "source": [
        "As an example, let's first look at one of the simplest classification tasks, namely, the binary classification with \n",
        "linearly separable data:"
      ]
    },
    {
      "metadata": {
        "id": "m9HS-SxEtVeF",
        "colab_type": "code",
        "colab": {}
      },
      "cell_type": "code",
      "source": [
        "from sklearn.datasets.samples_generator import make_blobs\n",
        "X, y = make_blobs(n_samples=50, centers=2,\n",
        "                  random_state=0, cluster_std=0.60)\n",
        "plt.scatter(X[:, 0], X[:, 1], c=y, s=50, cmap='autumn');"
      ],
      "execution_count": 0,
      "outputs": []
    },
    {
      "metadata": {
        "id": "FfuGpPEKg57_",
        "colab_type": "text"
      },
      "cell_type": "markdown",
      "source": [
        "However, the dataset that we will use today is not that easy to classify if you look at the visualization below."
      ]
    },
    {
      "metadata": {
        "id": "oG4cPZ9_gPpm",
        "colab_type": "code",
        "colab": {}
      },
      "cell_type": "code",
      "source": [
        "# Load dataset\n",
        "cancer = datasets.load_breast_cancer()\n",
        "\n",
        "# Let's look at the dataset \n",
        "print(\"Feature: \", cancer.feature_names)\n",
        "print(\"Labels: \", cancer.target_names)\n",
        "\n",
        "print(\"Shape: \", cancer.data.shape)\n",
        "\n",
        "X = cancer.data\n",
        "y = cancer.target\n",
        "\n",
        "#Exercise: Visualize our dataset (you can use the visualization from above)\n"
      ],
      "execution_count": 0,
      "outputs": []
    },
    {
      "metadata": {
        "id": "NESKeyRVhcNc",
        "colab_type": "text"
      },
      "cell_type": "markdown",
      "source": [
        "Work on the cancer dataset. First split the dataset and then train a linear classifier. "
      ]
    },
    {
      "metadata": {
        "id": "I0tf6eknhiNC",
        "colab_type": "code",
        "colab": {}
      },
      "cell_type": "code",
      "source": [
        "# Exercise: Split the dataset into 70% training set and \n",
        "# 30% test set \n"
      ],
      "execution_count": 0,
      "outputs": []
    },
    {
      "metadata": {
        "id": "-ZeWSAT_ihuO",
        "colab_type": "code",
        "colab": {}
      },
      "cell_type": "code",
      "source": [
        "# Exercise: initialize and train a SVM with a linear kernel and predict \n",
        "# the labels for the cancer dataset\n",
        "# https://scikit-learn.org/stable/modules/generated/sklearn.svm.SVC.html\n"
      ],
      "execution_count": 0,
      "outputs": []
    },
    {
      "metadata": {
        "id": "v3UVdpoCn01y",
        "colab_type": "code",
        "colab": {}
      },
      "cell_type": "code",
      "source": [
        "# Exercise: evaluate your model using the imported metrics library\n",
        "print(\"Accuracy:\", your_code)\n",
        "\n",
        "# Exercise: also check Precision and Recall using the same libary\n",
        "# How can those two be interpreted?\n",
        "print(\"Precision:\", your_code)\n",
        "print(\"Recall:\", your_code)"
      ],
      "execution_count": 0,
      "outputs": []
    },
    {
      "metadata": {
        "id": "ZIXk5YunnxA0",
        "colab_type": "code",
        "colab": {}
      },
      "cell_type": "code",
      "source": [
        "# Exercise: train a SVM classifier with a polynomial or RBF kernel\n",
        "# on the same dataset and compare the result\n",
        "# https://scikit-learn.org/stable/modules/generated/sklearn.svm.SVC.html\n"
      ],
      "execution_count": 0,
      "outputs": []
    },
    {
      "metadata": {
        "id": "JfL9Bubgm1eF",
        "colab_type": "code",
        "colab": {}
      },
      "cell_type": "code",
      "source": [
        "# Exercise: evaluate your model using the imported metrics library\n",
        "print(\"Accuracy:\", your_code)\n",
        "\n",
        "# Exercise: also check Precision and Recall using the same libary\n",
        "# How can those two be interpreted?\n",
        "print(\"Precision:\", your_code)\n",
        "print(\"Recall:\", your_code)\n",
        "\n",
        "# Exercise: compare the metrics of the linear and the rbf classifier\n",
        "# Can you explain the difference?"
      ],
      "execution_count": 0,
      "outputs": []
    },
    {
      "metadata": {
        "id": "wNXDwAiyqIN7",
        "colab_type": "code",
        "colab": {}
      },
      "cell_type": "code",
      "source": [
        "# Exercise: parameter fine-tuning\n",
        "# Use GriDSearchCV to test the different parameter settings\n",
        "# for linear and rbf kernels\n",
        "\n",
        "classifier = svm.SVC()\n",
        "\n",
        "\n",
        "param_grid = [\n",
        "   # Exercise: add a linear kernel here \n",
        "  {'C': [1, 10, 100, 1000], 'gamma': [0.001, 0.0001], 'kernel': ['rbf']},\n",
        " ]\n",
        "\n",
        "gs_clf_svm = GridSearchCV(classifier, param_grid)\n",
        "gs_clf_svm = gs_clf_svm.fit(X_train, y_train)\n",
        "print(\"Best score achieved with fine-tuning SVN:\", gs_clf_svm.best_score_)\n",
        "print(\"Best parameter settings for SGD: \", gs_clf_svm.best_params_)\n",
        "print()"
      ],
      "execution_count": 0,
      "outputs": []
    },
    {
      "metadata": {
        "colab_type": "code",
        "id": "7w2cgvbp69yw",
        "colab": {}
      },
      "cell_type": "code",
      "source": [
        "# Let's try this with a different dataset - run this cell to visualize it \n",
        "from sklearn.datasets.samples_generator import make_circles\n",
        "X, y = make_circles(100, factor=.1, noise=.1)\n",
        "\n",
        "plt.scatter(X[:, 0], X[:, 1], c=y, s=50, cmap='autumn');"
      ],
      "execution_count": 0,
      "outputs": []
    },
    {
      "metadata": {
        "id": "z0QsTppWthpk",
        "colab_type": "code",
        "colab": {}
      },
      "cell_type": "code",
      "source": [
        "# Exercise: Do the grid search on this dataset using higher levels \n",
        "# of C to increase the penalty on prediction errors \n"
      ],
      "execution_count": 0,
      "outputs": []
    },
    {
      "metadata": {
        "id": "0c7OuSQS23Es",
        "colab_type": "text"
      },
      "cell_type": "markdown",
      "source": [
        "The results of the classifier can also be shown as a confusion matrix. This becomes particulalry interesting for a multiclass \n",
        "classification problem, but can also be used for a binary classification as below.."
      ]
    },
    {
      "metadata": {
        "id": "wFGVNdB11dEs",
        "colab_type": "code",
        "colab": {}
      },
      "cell_type": "code",
      "source": [
        "# Printing a confusion matrix of the results\n",
        "from sklearn.metrics import confusion_matrix\n",
        "mat = confusion_matrix(y_test, y_pred)\n",
        "sns.heatmap(mat.T, square=True, annot=True, fmt='d', cbar=False, \n",
        "            xticklabels=cancer.target_names.tolist(), \n",
        "            yticklabels=cancer.target_names.tolist())\n",
        "plt.xlabel('true label')\n",
        "plt.ylabel('predicted label');"
      ],
      "execution_count": 0,
      "outputs": []
    },
    {
      "metadata": {
        "id": "GGFc4y09uje2",
        "colab_type": "text"
      },
      "cell_type": "markdown",
      "source": [
        "# Lesson 2: Text classification - classifier comparison"
      ]
    },
    {
      "metadata": {
        "id": "UaPwMFfsuoa_",
        "colab_type": "text"
      },
      "cell_type": "markdown",
      "source": [
        "Since we are mostly interested in text, let's classify text and compare SVMs with decision trees and random forrests."
      ]
    },
    {
      "metadata": {
        "id": "dKaYryYHvfpK",
        "colab_type": "code",
        "colab": {}
      },
      "cell_type": "code",
      "source": [
        "# Feel free to use the tweets from Tutorial 3 instead of this standard \n",
        "# dataset in this exercise \n",
        "from sklearn.datasets import fetch_20newsgroups\n",
        "\n",
        "# import Decision Tree and Rrandom Forrest classifiers\n",
        "from sklearn.tree import DecisionTreeClassifier\n",
        "from sklearn.ensemble import RandomForestClassifier\n",
        "from sklearn.naive_bayes import MultinomialNB\n",
        "\n",
        "categories =  ['alt.atheism', 'soc.religion.christian', 'comp.graphics', 'sci.med']\n",
        "\n",
        "twenty_train = fetch_20newsgroups(subset='train', categories=categories, shuffle=True, random_state=42)\n",
        "twenty_test = fetch_20newsgroups(subset='test', categories=categories, shuffle=True, random_state=42)\n"
      ],
      "execution_count": 0,
      "outputs": []
    },
    {
      "metadata": {
        "id": "XxkrNddHwjhD",
        "colab_type": "code",
        "colab": {}
      },
      "cell_type": "code",
      "source": [
        "# Exercise: provide the necessary imports to prepare a text \n",
        "# dataset - that is turn it into features\n"
      ],
      "execution_count": 0,
      "outputs": []
    },
    {
      "metadata": {
        "id": "h8m5HKRvvw8R",
        "colab_type": "code",
        "colab": {}
      },
      "cell_type": "code",
      "source": [
        "# Exercise: prepare the dataset by turning the text to features \n"
      ],
      "execution_count": 0,
      "outputs": []
    },
    {
      "metadata": {
        "id": "JM1nCT4vw88l",
        "colab_type": "code",
        "colab": {}
      },
      "cell_type": "code",
      "source": [
        "# Exercise: compare a linear and rbf kernel-based SVM \n",
        "# start with a small set of parameters \n",
        "\n",
        "\n"
      ],
      "execution_count": 0,
      "outputs": []
    },
    {
      "metadata": {
        "id": "Kr20sFuyxQD3",
        "colab_type": "code",
        "colab": {}
      },
      "cell_type": "code",
      "source": [
        "# Exercise: compare the above classifier to a decision tree classifier \n",
        "# Adapt the parameters correspondingly \n",
        "# If you wish you could also try on the RandomForrest classifier\n"
      ],
      "execution_count": 0,
      "outputs": []
    }
  ]
}