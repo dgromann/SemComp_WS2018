{
  "nbformat": 4,
  "nbformat_minor": 0,
  "metadata": {
    "colab": {
      "name": "Tutorial2_model_solution.ipynb",
      "version": "0.3.2",
      "provenance": [],
      "collapsed_sections": [],
      "include_colab_link": true
    },
    "kernelspec": {
      "name": "python3",
      "display_name": "Python 3"
    }
  },
  "cells": [
    {
      "cell_type": "markdown",
      "metadata": {
        "id": "view-in-github",
        "colab_type": "text"
      },
      "source": [
        "<a href=\"https://colab.research.google.com/github/dgromann/SemComp_WS2018/blob/master/Tutorial2/Tutorial2_model_solution.ipynb\" target=\"_parent\"><img src=\"https://colab.research.google.com/assets/colab-badge.svg\" alt=\"Open In Colab\"/></a>"
      ]
    },
    {
      "metadata": {
        "id": "USq3Q7aNESPZ",
        "colab_type": "text"
      },
      "cell_type": "markdown",
      "source": [
        "\n",
        "# Lesson 0.0.0: Store this notebook! \n",
        "\n",
        "Go to \"File\" and make sure you store this file as a local copy to either GitHub or your Google Drive. If you do not have a Google account and also do not want to create one, please check Option C below. \n"
      ]
    },
    {
      "metadata": {
        "id": "w3feppwJEZlH",
        "colab_type": "text"
      },
      "cell_type": "markdown",
      "source": [
        "\n",
        "Option A)  Google Drive WITH collaboration \n",
        "\n",
        "\n",
        "If you want to work in a **collaborative** manner where each of you in the group can see each other's contributions, one of you needs to store the notebook in **Google Drive** and share it with the others. You share it by clicking on the **SHARE** button on the top right of this page and share the link with the \"everyone who receives this link can edit\" option with the other team members per e-mail, skype, or any other way you prefer. \n",
        "\n",
        "If you work with others, keep in mind to always copy the code before you edit it and always indicate your name as a comment (e.g. #Dagmar ) in the cell that it is clear who wrote which part. I also recommend creating a new code cell for your contributions.  "
      ]
    },
    {
      "metadata": {
        "id": "ThoArFGwEfbV",
        "colab_type": "text"
      },
      "cell_type": "markdown",
      "source": [
        "Option B) Github without collaboration\n",
        "\n",
        "\n",
        "Collaborative functions are **not available** when storing the notebook in **GitHub**; you will see your own work but not that of others. "
      ]
    },
    {
      "metadata": {
        "id": "3JZ5XKBjEjNk",
        "colab_type": "text"
      },
      "cell_type": "markdown",
      "source": [
        "Option C) Download this notebook as ipynb (Jupyter notebook) or py (Python file)\n",
        "\n",
        "To run either of these on your local machine requires the installation of the required programs, which for the first tutorial are Python and NLTK. This will become more as we continue on to machine learning (requiring sklearn) and deep learning (requiring tensorflow and/or pytorch). In Google Codelab all of these are provided and do not need to be installed locally. "
      ]
    },
    {
      "metadata": {
        "id": "7C5zjRSUGiS0",
        "colab_type": "text"
      },
      "cell_type": "markdown",
      "source": [
        "# Lesson 0.0: Let's import the libaries to Python that we need today"
      ]
    },
    {
      "metadata": {
        "id": "gWre-ailGh0D",
        "colab_type": "code",
        "outputId": "15d0a2f9-52ef-443d-c9e5-08c7a0ae9e9a",
        "colab": {
          "base_uri": "https://localhost:8080/",
          "height": 176
        }
      },
      "cell_type": "code",
      "source": [
        "import nltk \n",
        "nltk.download('averaged_perceptron_tagger')\n",
        "nltk.download('punkt')\n",
        "nltk.download('wordnet')\n",
        "nltk.download('gutenberg')\n",
        "              \n",
        "# Tokenization\n",
        "from nltk.tokenize import word_tokenize\n",
        "# Part-of-Speech tagger\n",
        "from nltk.tag.perceptron import PerceptronTagger\n",
        "# WordNet\n",
        "from nltk.corpus import wordnet as wn\n",
        "# Gutenberg corpus we need for Lesson 3\n",
        "from nltk.corpus import gutenberg\n",
        "\n",
        "# Lemmatizer \n",
        "from nltk.stem import WordNetLemmatizer\n",
        "\n",
        "# Stemmer \n",
        "from nltk.stem.porter import PorterStemmer\n",
        "from nltk.stem.lancaster import LancasterStemmer\n",
        "from nltk.stem import SnowballStemmer\n"
      ],
      "execution_count": 0,
      "outputs": [
        {
          "output_type": "stream",
          "text": [
            "[nltk_data] Downloading package averaged_perceptron_tagger to\n",
            "[nltk_data]     /root/nltk_data...\n",
            "[nltk_data]   Unzipping taggers/averaged_perceptron_tagger.zip.\n",
            "[nltk_data] Downloading package punkt to /root/nltk_data...\n",
            "[nltk_data]   Unzipping tokenizers/punkt.zip.\n",
            "[nltk_data] Downloading package wordnet to /root/nltk_data...\n",
            "[nltk_data]   Unzipping corpora/wordnet.zip.\n",
            "[nltk_data] Downloading package gutenberg to /root/nltk_data...\n",
            "[nltk_data]   Unzipping corpora/gutenberg.zip.\n"
          ],
          "name": "stdout"
        }
      ]
    },
    {
      "metadata": {
        "id": "Sz7WutteEpYP",
        "colab_type": "text"
      },
      "cell_type": "markdown",
      "source": [
        "# Lesson 1: Tokenization and Part-of-Speech (POS) tagging\n",
        "\n",
        "What is the difference in pronunciation, POS tag, and meaning? Use WordNet to retrieve different senses of the word."
      ]
    },
    {
      "metadata": {
        "id": "kWk1T0_vElQd",
        "colab_type": "code",
        "outputId": "4dee1a25-d400-4112-e6bd-a49672255db1",
        "colab": {
          "base_uri": "https://localhost:8080/",
          "height": 249
        }
      },
      "cell_type": "code",
      "source": [
        "tagger = PerceptronTagger()\n",
        "\n",
        "# Exercise: Tokenize and Part-of-Speech (POS) tag the following sentence\n",
        "# Use the already initialized tagger \n",
        "sentence = \"It just tears me apart to see you suffering like that and in tears.\"\n",
        "pos_tags = tagger.tag(word_tokenize(sentence))\n",
        "\n",
        "print(\"Part of speech tags of the sentence: \", pos_tags)\n",
        "\n",
        "# Exercise: Use WordNet to retrieve the different senses of the word \"tears\"\n",
        "# What is the difference in pronunciation, POS tag, and meaning? (determine in\n",
        "# discussion, not automatically)\n",
        "for ss in wn.synsets('tear'):\n",
        "     print(ss, ss.definition())\n",
        "print(\"tear.v.02 is the verb in the sentence and sounds like t-air, while tear.n.01 is the noun in the sentence and sounds like t-ear.\")\n",
        "print()\n"
      ],
      "execution_count": 0,
      "outputs": [
        {
          "output_type": "stream",
          "text": [
            "Part of speech tags of the sentence:  [('It', 'PRP'), ('just', 'RB'), ('tears', 'VBZ'), ('me', 'PRP'), ('apart', 'RB'), ('to', 'TO'), ('see', 'VB'), ('you', 'PRP'), ('suffering', 'VBG'), ('like', 'IN'), ('that', 'DT'), ('and', 'CC'), ('in', 'IN'), ('tears', 'NNS'), ('.', '.')]\n",
            "Synset('tear.n.01') a drop of the clear salty saline solution secreted by the lacrimal glands\n",
            "Synset('rip.n.02') an opening made forcibly as by pulling apart\n",
            "Synset('bust.n.04') an occasion for excessive eating or drinking\n",
            "Synset('tear.n.04') the act of tearing\n",
            "Synset('tear.v.01') separate or cause to separate abruptly\n",
            "Synset('tear.v.02') to separate or be separated by force\n",
            "Synset('tear.v.03') move quickly and violently\n",
            "Synset('pluck.v.05') strip of feathers\n",
            "Synset('tear.v.05') fill with tears or shed tears\n",
            "tear.v.02 is the verb in the sentence and sounds like t-air, while tear.n.01 is the noun in the sentence and sounds like t-ear.\n",
            "\n"
          ],
          "name": "stdout"
        }
      ]
    },
    {
      "metadata": {
        "id": "BR6TMEG_HkqK",
        "colab_type": "text"
      },
      "cell_type": "markdown",
      "source": [
        "# Lesson 2: Lemmatizing and Stemming \n",
        "\n",
        "We have looked at the comparison between these two in the lecture. Now it is time for you to play around \n",
        "with the two yourself.\n",
        "\n",
        "Which stemmer worked better? Which method would you prefer to determine word frequency\n",
        "information of a text corpus?"
      ]
    },
    {
      "metadata": {
        "id": "i8KIF9ePHyLu",
        "colab_type": "code",
        "outputId": "09d4a0a7-58a0-47a9-f502-b2fc25cc539d",
        "colab": {
          "base_uri": "https://localhost:8080/",
          "height": 935
        }
      },
      "cell_type": "code",
      "source": [
        "# Lemmatizer \n",
        "lemmatizer = WordNetLemmatizer()\n",
        "\n",
        "# Selection of stemmers \n",
        "ps = PorterStemmer()\n",
        "ls = LancasterStemmer()\n",
        "ss = SnowballStemmer(\"english\")\n",
        "\n",
        "# Exercise: Lemmatize and stem (maybe try different stemmers) the following words\n",
        "words = ['presumably', 'provisions', 'owed', 'abacus', 'flies', 'dies', 'mules',\n",
        "        'seizing', 'caresses', 'sensational', 'colonizer', 'traditional', 'plotted']\n",
        "\n",
        "for word in words:\n",
        "  print(\"Porter: \", ps.stem(word))  \n",
        "  print(\"Lancaster: \", ls.stem(word))\n",
        "  print(\"Snowball: \", ls.stem(word)+\"\\n\")"
      ],
      "execution_count": 0,
      "outputs": [
        {
          "output_type": "stream",
          "text": [
            "Porter:  presum\n",
            "Lancaster:  presum\n",
            "Snowball:  presum\n",
            "\n",
            "Porter:  provis\n",
            "Lancaster:  provid\n",
            "Snowball:  provid\n",
            "\n",
            "Porter:  owe\n",
            "Lancaster:  ow\n",
            "Snowball:  ow\n",
            "\n",
            "Porter:  abacu\n",
            "Lancaster:  abac\n",
            "Snowball:  abac\n",
            "\n",
            "Porter:  fli\n",
            "Lancaster:  fli\n",
            "Snowball:  fli\n",
            "\n",
            "Porter:  die\n",
            "Lancaster:  die\n",
            "Snowball:  die\n",
            "\n",
            "Porter:  mule\n",
            "Lancaster:  mul\n",
            "Snowball:  mul\n",
            "\n",
            "Porter:  seiz\n",
            "Lancaster:  seiz\n",
            "Snowball:  seiz\n",
            "\n",
            "Porter:  caress\n",
            "Lancaster:  caress\n",
            "Snowball:  caress\n",
            "\n",
            "Porter:  sensat\n",
            "Lancaster:  sens\n",
            "Snowball:  sens\n",
            "\n",
            "Porter:  colon\n",
            "Lancaster:  colon\n",
            "Snowball:  colon\n",
            "\n",
            "Porter:  tradit\n",
            "Lancaster:  tradit\n",
            "Snowball:  tradit\n",
            "\n",
            "Porter:  plot\n",
            "Lancaster:  plot\n",
            "Snowball:  plot\n",
            "\n"
          ],
          "name": "stdout"
        }
      ]
    },
    {
      "metadata": {
        "id": "FSCIVYBkIumf",
        "colab_type": "text"
      },
      "cell_type": "markdown",
      "source": [
        "# Lesson 3: Apply methods to a whole text\n",
        "\n",
        "From the Gutenberg corpus in NLTK, we will use the Shakespear text \"Macbeth\" that has already been imported above. "
      ]
    },
    {
      "metadata": {
        "id": "UupGWDCuI0Jo",
        "colab_type": "code",
        "outputId": "0ee11ff5-2cf6-40c1-f9fc-895440b49fbc",
        "colab": {
          "base_uri": "https://localhost:8080/",
          "height": 143
        }
      },
      "cell_type": "code",
      "source": [
        "text = gutenberg.words(\"shakespeare-macbeth.txt\")\n",
        "\n",
        "# Exercise: Print out the number words in the text.\n",
        "print(\"The Gutenberg Shakespeare text has \", len(text), \" words.\")\n",
        "\n",
        "# Exercise: Print out the number of unique words in the text (set vs. list)\n",
        "print(\"Unique words: \", len(set(text)))\n",
        "\n",
        "# Exercise: Lowercase all words and remove punctuation and numbers\n",
        "text_vocab = [w.lower() for w in text if w.isalpha()]\n",
        "\n",
        "# Exercise: Lemmatize the result above, keep only unique lemmas, and print the result.\n",
        "lemma = set(lemmatizer.lemmatize(t) for t in text_vocab)\n",
        "\n",
        "# Exercise: Stem the results above, keep only unique stems, and print the result.\n",
        "#  Compare the count of of lemmas and stems. What can you observe?\n",
        "stems = set(ps.stem(t) for t in text_vocab)\n",
        "\n",
        "print(\"Count lemma: \", len(lemma))\n",
        "print(\"Count stems: \", len(stems))\n",
        "\n",
        "# Exercise: Create a list of words that are in WordNet from the lemma list. \n",
        "# What kind of words are kept and which ones not?\n",
        "filtered = [w for w in lemma if len(wn.synsets(w)) > 0]\n",
        "print(\"Filtered lemmas using WordNet: \", filtered)\n",
        "print(\"Length of filtered lemmas list: \", len(filtered))\n"
      ],
      "execution_count": 0,
      "outputs": [
        {
          "output_type": "stream",
          "text": [
            "The Gutenberg Shakespeare text has  23140  words.\n",
            "Unique words:  4017\n",
            "Count lemma:  3254\n",
            "Count stems:  2836\n",
            "Filtered lemmas using WordNet:  ['worst', 'chuck', 'sweeten', 'make', 'land', 'point', 'already', 'sweetly', 'thou', 'giant', 'insane', 'least', 'little', 'founded', 'accursed', 'purge', 'image', 'shaking', 'lad', 'resolute', 'findes', 'begun', 'maggot', 'consider', 'thither', 'heard', 'guise', 'forgot', 'censure', 'appalls', 'witch', 'dignity', 'charmes', 'knock', 'cling', 'abound', 'can', 'borrower', 'heeles', 'wrong', 'distill', 'intermission', 'back', 'swine', 'before', 'relation', 'forth', 'accounted', 'true', 'together', 'strike', 'establish', 'momentary', 'way', 'scruple', 'been', 'particular', 'sorryest', 'med', 'pure', 'bound', 'proceed', 'bent', 'sounded', 'sight', 'eye', 'earth', 'dudgeon', 'fancy', 'dearest', 'case', 'mid', 'most', 'thumbes', 'a', 'beast', 'taylor', 'deere', 'concluded', 'touch', 'predecessor', 'absolute', 'aught', 'reported', 'hit', 'anthony', 'goose', 'west', 'am', 'minion', 'cruelty', 'aid', 'nought', 'flame', 'broad', 'contend', 'pale', 'afeard', 'doing', 'teares', 'silent', 'safe', 'marble', 'gentle', 'newly', 'honour', 'em', 'wormes', 'teach', 'slab', 'signes', 'commanded', 'more', 'rebellious', 'streames', 'meant', 'commend', 'plague', 'directly', 'foolish', 'sweet', 'known', 'respect', 'cap', 'hideous', 'olden', 'bend', 'transport', 'parted', 'winter', 'any', 'anon', 'pilot', 'almost', 'exposure', 'signifying', 'suggestion', 'first', 'port', 'play', 'presently', 'part', 'golgotha', 'drowse', 'race', 'wine', 'descend', 'butcher', 'rough', 'doubly', 'substance', 'hearing', 'former', 'shade', 'primus', 'baited', 'high', 'wonder', 'country', 'mew', 'destroying', 'frailty', 'horrible', 'gentleman', 'prepares', 'dolour', 'safety', 'raze', 'instrument', 'apparition', 'groomes', 'heap', 'such', 'bare', 'moderne', 'best', 'ambition', 'sooth', 'turning', 'entry', 'backward', 'gentry', 'poster', 'buffet', 'struck', 'perfect', 'hang', 'swelling', 'impediment', 'distracted', 'watching', 'messenger', 'rumor', 'sinkes', 'show', 'fast', 'initiate', 'ditch', 'vulture', 'wound', 'stranger', 'raise', 'producing', 'young', 'comfort', 'pent', 'expectation', 'dishonor', 'beard', 'meet', 'brow', 'place', 'smell', 'torture', 'bear', 'sit', 'think', 'bore', 'offended', 'heath', 'number', 'frankly', 'blanket', 'audit', 'pride', 'angel', 'baby', 'bonfire', 'wisely', 'resolution', 'ban', 'sold', 'flawes', 'crown', 'promise', 'knockes', 'latch', 'weary', 'pretty', 'safest', 'womanly', 'slaughter', 'knowes', 'childhood', 'fresh', 'good', 'farrow', 'hay', 'prayses', 'vulnerable', 'clamor', 'command', 'about', 'watcher', 'neptune', 'protest', 'ti', 'seeming', 'absent', 'assistance', 'file', 'swearer', 'damned', 'summons', 'fight', 'chid', 'motion', 'curse', 'throw', 'deepest', 'bought', 'altogether', 'fed', 'dew', 'niggard', 'borrowed', 'absence', 'prediction', 'going', 'gracious', 'plenty', 'supper', 'blessed', 'deeper', 'oppose', 'surcease', 'rapt', 'french', 'teeth', 'lose', 'watch', 'assay', 'dispute', 'flying', 'degree', 'like', 'brest', 'partner', 'broth', 'multitudinous', 'ornament', 'layes', 'gate', 'frieze', 'suffer', 'filthy', 'descended', 'finis', 'pricking', 'full', 'sainted', 'eagle', 'rather', 'abuse', 'bestowes', 'caldron', 'fee', 'east', 'vanquish', 'sake', 'confirm', 'got', 'oh', 'afterwards', 'dusty', 'surmise', 'catalogue', 'alarum', 'interpret', 'direction', 'stern', 'cloud', 'within', 'post', 'often', 'who', 'blowes', 'salt', 'lust', 'crow', 'happyer', 'two', 'fear', 'low', 'push', 'out', 'spirit', 'other', 'laugh', 'denies', 'venture', 'farther', 'saying', 'stealthy', 'behold', 'shed', 'amend', 'drum', 'forget', 'continue', 'confess', 'next', 'dog', 'bathe', 'confident', 'carried', 'ear', 'dagger', 'thing', 'answer', 'fairy', 'armes', 'striding', 'neither', 'memory', 'damnation', 'seize', 'healing', 'rate', 'hall', 'crest', 'blade', 'gladly', 'self', 'is', 'sits', 'become', 'well', 'clutch', 'yawning', 'naked', 'malicious', 'mother', 'mercy', 'oppressed', 'bestow', 'cream', 'bane', 'opinion', 'buried', 'late', 'earthly', 'stooles', 'sweeter', 'sweat', 'modest', 'look', 'desolate', 'shewes', 'wanton', 'forbid', 'season', 'remember', 'screw', 'blaspheme', 'done', 'tumble', 'sense', 'pleasant', 'candle', 'northumberland', 'round', 'amen', 'few', 'forge', 'fortitude', 'forgotten', 'fume', 'greene', 'action', 'preparation', 'friend', 'spacious', 'thinkes', 'health', 'male', 'herein', 'lease', 'wa', 'tyranny', 'smiling', 'swiftest', 'trusted', 'thirty', 'offend', 'womb', 'haunting', 'require', 'army', 'blown', 'roof', 'hill', 'boasting', 'benediction', 'beguile', 'mouthes', 'meeting', 'ring', 'farmer', 'newer', 'dead', 'glare', 'slight', 'hunger', 'built', 'endure', 'torch', 'now', 'garment', 'banner', 'picture', 'disaster', 'weighes', 'colour', 'space', 'duff', 'pester', 'remaines', 'faith', 'march', 'in', 'grace', 'taint', 'proceeding', 'prisoner', 'present', 'discomfort', 'fellow', 'fell', 'much', 'desert', 'whore', 'intent', 'besides', 'fix', 'seeking', 'creepes', 'burnt', 't', 'tuesday', 'begin', 'pay', 'disgrace', 'flattering', 'worthyest', 'continually', 'fighting', 'tyrant', 'please', 'mad', 'ground', 'stormes', 'impostor', 'mock', 'taste', 'boy', 'beware', 'aleppo', 'committed', 'grim', 'mingle', 'die', 'sad', 'shadowes', 'steed', 'taught', 'thousand', 'stall', 'hart', 'prophet', 'fire', 'smack', 'wife', 'disbursed', 'held', 'free', 'alone', 'paid', 'manhood', 'naught', 'according', 'want', 'beyond', 'lead', 'death', 'being', 'taper', 'wade', 'mirth', 'homage', 'three', 'prosperous', 'long', 'keeper', 'single', 'gown', 'tidings', 'visiting', 'guilt', 'husbandry', 'subtle', 'abhorred', 'men', 'drab', 'mettle', 'slept', 'course', 'wherefore', 'plight', 'whisper', 'fret', 'function', 'calling', 'second', 'conduct', 'effect', 'at', 'familiar', 'barren', 'gin', 'expedition', 'soldier', 'an', 'indissoluble', 'became', 'assisted', 'stayes', 'breath', 'message', 'chicken', 'sens', 'hoter', 'volume', 'stay', 'piece', 'finger', 'hate', 'perchance', 'stout', 'setting', 'conclusion', 'embrace', 'report', 'crownes', 'planted', 'tend', 'wilt', 'companion', 'loosest', 'pall', 'fairer', 'lord', 'bow', 'growes', 'addrest', 'contending', 'augures', 'bell', 'guild', 'doomes', 'accent', 'm', 'practise', 'armed', 'father', 'infirmity', 'flighty', 'antidote', 'heart', 'composition', 'stage', 'england', 'dwindle', 'saint', 'old', 'bestride', 'entrance', 'dance', 'ore', 'sure', 'cabin', 'secret', 'freely', 'instruction', 'issue', 'retreat', 'rub', 'pine', 'filling', 'neckes', 'scarcely', 'trust', 'left', 'knowing', 'bold', 'newt', 'discharge', 'dame', 'sundry', 'passion', 'tale', 'worthy', 'bond', 'champion', 'proportion', 'white', 'dedicate', 'gorgon', 'frame', 'theft', 'shot', 'castle', 'traines', 'wake', 'c', 'cool', 'english', 'grant', 'dire', 'tending', 'sheath', 'ang', 'right', 'common', 'becoming', 'name', 'drop', 'shake', 'rarer', 'clatter', 'interim', 'earnest', 'thankes', 'mouth', 'stand', 'tempest', 'treatise', 'me', 'power', 'apart', 'entreat', 'hangman', 'rooted', 'prate', 'stop', 'hither', 'arabia', 'duncan', 'steales', 'pledge', 'knit', 'both', 'kind', 'star', 'wear', 'hoarse', 'spoke', 'prima', 'continent', 'body', 'esteem', 'fairest', 'gold', 'mated', 'treasonous', 'fraught', 'decision', 'scape', 'ride', 'relate', 'bounteous', 'pace', 'commendation', 'profound', 'distance', 'whence', 'estate', 'harp', 'knoll', 'person', 'speakes', 'y', 'beneath', 'cry', 'surgery', 'pyramid', 'after', 'agent', 'duty', 'stole', 'chestnut', 'chafe', 'stealing', 'instant', 'crime', 'need', 'threescore', 'rich', 'threatens', 'pleasure', 'succeeding', 'hum', 'marry', 'temp', 'brightest', 'damn', 'downfall', 'bleeding', 'wash', 'melted', 'found', 'bruited', 'continued', 'lye', 'making', 'henceforth', 'afraid', 'terrible', 'ocean', 'drunk', 'fled', 'syllable', 'saluted', 'cause', 'blessing', 'strange', 'dy', 'sing', 'water', 'adieu', 'prologue', 'vaulting', 'patch', 'same', 'on', 'furious', 'cheekes', 'yew', 'thunder', 'battlement', 'still', 'rage', 'traitor', 'rest', 'professes', 'milkes', 'inhabit', 'may', 'indeed', 'nature', 'kite', 'honest', 'tremble', 'thrust', 'cousin', 'reckon', 'quit', 'knocking', 'morrow', 'hush', 'greeting', 'hare', 'happy', 'lyon', 'appoint', 'shift', 'snow', 'treasure', 'outwardly', 'moones', 'acquaint', 'cleares', 'followes', 'venom', 'force', 'ripe', 'chastise', 'blunt', 'spy', 'ten', 'harmes', 'foggy', 'short', 'treason', 'enkindle', 'yellow', 'arm', 'speed', 'labour', 'weapon', 'contradict', 'age', 'wren', 'approach', 'spent', 'smacking', 'valiant', 'throb', 'swimmer', 'speech', 'hold', 'consort', 'walk', 'therein', 'mile', 'loose', 'cure', 'some', 'plenteous', 'defence', 'hat', 'direst', 'whole', 'pot', 'coigne', 'hope', 'affliction', 'minutely', 'line', 'nice', 'conclude', 'account', 'kill', 'conference', 'depart', 'horror', 'monster', 'feed', 'madam', 'passage', 'bubble', 'one', 'tooth', 'guardian', 'eminence', 'adhere', 'lookes', 'attend', 'blanch', 'strut', 'debt', 'run', 'matter', 'stuck', 'dreamt', 'portable', 'salutation', 'check', 'roman', 'knell', 'warder', 'integrity', 'gentlewoman', 'sacred', 'largesse', 'step', 'woman', 'cock', 'cow', 'dollar', 'muse', 'mould', 'doctor', 'spring', 'last', 'trifled', 'lip', 'banquet', 'stab', 'ala', 'descends', 'steele', 'strongly', 'nod', 'genius', 'fortune', 'eaten', 'ague', 'returning', 'predominance', 'though', 'betray', 'host', 'prince', 'therefore', 'folly', 'quell', 'accustom', 'brinded', 'obscure', 'teemes', 'rebel', 'washing', 'eight', 'trade', 'swallow', 'birth', 'warranted', 'black', 'yet', 'pretence', 'yes', 'home', 'neerest', 'ignorant', 'caution', 'pertaines', 'annoyance', 'feat', 'constrained', 'corner', 'gent', 'ha', 'apace', 'quench', 'bee', 'drenched', 'reades', 'root', 'dwell', 'prey', 'each', 'exploit', 'remorse', 'sweares', 'hell', 'win', 'none', 'red', 'net', 'valour', 'very', 'lady', 'read', 'pitfall', 'temple', 'go', 'yell', 'prospect', 'growing', 'weigh', 'mistrust', 'infected', 'toyes', 'fry', 'down', 'wicked', 'illusion', 'here', 'speaks', 'mind', 'hew', 'masking', 'presence', 'betimes', 'recommends', 'wretched', 'dull', 'ruines', 'all', 'i', 'kernes', 'wit', 'bake', 'quarter', 'vault', 'treacherous', 'why', 'fall', 'snake', 'inhabitant', 'shape', 'nay', 'summer', 'casing', 'armour', 'mortal', 'story', 'ceremony', 'shut', 'morning', 'gout', 'tongue', 'master', 'hard', 'repose', 'countenance', 'began', 'share', 'sleep', 'walking', 'murky', 'trenched', 'gently', 'bides', 'front', 'curtain', 'assurance', 'sell', 'blow', 'bleed', 'resounds', 'hear', 'said', 'verity', 'contented', 'golden', 'did', 'security', 'highly', 'minister', 'writes', 'led', 'distress', 'seemes', 'potent', 'farewell', 'cradle', 'royalty', 'might', 'cleanse', 'card', 'fooles', 'demand', 'repeat', 'waite', 'abroad', 'gaines', 'precious', 'thence', 'counterfeit', 'dying', 'vile', 'ireland', 'troubled', 'probation', 'scorpion', 'horse', 'maine', 'brew', 'vouch', 'beaten', 'pronounce', 'pray', 'sword', 'lizard', 'fill', 'ne', 'draw', 'attempt', 'haunt', 'will', 'needed', 'heartens', 'till', 'bladed', 'quickly', 'disease', 'wrought', 'digestion', 'dwarfish', 'bleeds', 'combustion', 'cursed', 'son', 'slow', 'sent', 'famine', 'officer', 'flourish', 'create', 'temper', 'mess', 'keepes', 'yesterday', 'rule', 'resembled', 'quiet', 'proud', 'celebrates', 'art', 'wealth', 'perfume', 'side', 'thick', 'breed', 'countryman', 'boyle', 'cyme', 'eighth', 'dis', 'tarquin', 'wise', 'blasted', 'alike', 'hand', 'informes', 'clock', 'better', 'rankes', 'strangely', 'cosine', 'witchcraft', 'distinguishes', 'greetes', 'fortifies', 'letting', 'acting', 'fare', 'plea', 'pretend', 'harbinger', 'there', 'swear', 'content', 'affaire', 'suffering', 'snare', 'knot', 'noise', 'malady', 'sceptred', 'noble', 'word', 'were', 'comparison', 'cumberland', 'wait', 'sought', 'either', 'curbing', 'o', 'knowledge', 'solely', 'gash', 'bury', 'brother', 'industrious', 'sort', 'especially', 'score', 'needes', 'mortified', 'interest', 'sickly', 'windes', 'scorch', 'hid', 'starting', 'top', 'bosomes', 'rue', 'notion', 'speaker', 'enrage', 'close', 'spot', 'homeward', 'thickens', 'comforted', 'day', 'bed', 'carry', 'market', 'regard', 'guest', 'feares', 'pole', 'reason', 'foundation', 'deadly', 'consent', 'people', 'do', 'sore', 'rabble', 'brings', 'confessing', 'tedious', 'trace', 'rous', 'angus', 'marching', 'babe', 'he', 'act', 'cannon', 'seem', 'courage', 'reignes', 'cricket', 'station', 'l', 'sway', 'sooner', 'see', 'measure', 'basis', 'batter', 'seated', 'scale', 'aside', 'fit', 'clamorous', 'hide', 'ask', 'appetite', 'hearty', 'sighes', 'norway', 'dragon', 'blister', 'glimmer', 'hedge', 'robe', 'confusion', 'painted', 'midnight', 'foot', 'lie', 'quite', 'cut', 'deed', 'fought', 'fold', 'man', 'multiplying', 'send', 'abide', 'trumpet', 'learn', 'fact', 'humane', 'scone', 'glory', 'amazement', 'knife', 'profit', 'god', 'later', 'dispatch', 'maw', 'strength', 'destroy', 'twenty', 'troopes', 'pristine', 'breach', 'anger', 'diamond', 'kindly', 'reflection', 'lid', 'lee', 'gaze', 'detraction', 'handle', 'too', 'swift', 'met', 'distemper', 'madame', 'luxurious', 'nose', 'finding', 'paper', 'rugged', 'charge', 'sorrow', 'court', 'cozens', 'conflict', 'braggart', 'chop', 'violent', 'ill', 'legion', 'dare', 'rookes', 'streakes', 'dangerous', 'toad', 'shield', 'missing', 'solicites', 'patient', 'labor', 'alter', 'edward', 'further', 'call', 'write', 'marshall', 'manner', 'put', 'supplyes', 'get', 'remembrance', 'danger', 'fourth', 'howl', 'beldam', 'cozen', 'intemperance', 'fool', 'store', 'pluck', 'sick', 'cryes', 'manly', 'crack', 'sacrilegious', 'aright', 'come', 'enrages', 'fate', 'face', 'quarrel', 'bill', 'sister', 'confronted', 'requited', 'swell', 'minute', 'porter', 'sea', 'church', 'shew', 'beetle', 'daughter', 'tune', 'catch', 'defect', 'perform', 'feeling', 'fright', 'crib', 'worse', 'strong', 'mindes', 'matron', 'youth', 'satisfied', 'written', 'listen', 'field', 'sicken', 'wither', 'state', 'compose', 'world', 'shadow', 'be', 'sleeping', 'bidding', 'enfold', 'fly', 'honor', 'vanish', 'captaines', 'faculty', 'start', 'order', 'il', 'mend', 'dye', 'commencing', 'night', 'dish', 'neer', 'benefit', 'purpose', 'hurt', 'are', 'rush', 'truth', 'wolfe', 'dismay', 'far', 'caesar', 'accompany', 'pit', 'pious', 'rat', 'thereto', 'thane', 'hound', 'studied', 'mowsing', 'hearer', 'bloodier', 'consequence', 'third', 'life', 'liege', 'guide', 'by', 'truly', 'time', 'ingratitude', 'recorded', 'beares', 'husband', 'wing', 'execution', 'humble', 'loades', 'length', 'trouble', 'player', 'epicure', 'mischance', 'cold', 'shaft', 'bad', 'credulous', 'arbitrate', 'talk', 'lay', 'flesh', 'homely', 'gift', 'leapes', 'timely', 'redoubled', 'attendant', 'new', 'commends', 'crowned', 'ross', 'greater', 'amends', 'nearest', 'turnes', 'speaking', 'sigh', 'another', 'turn', 'source', 'tartar', 'slaughterous', 'fife', 'hag', 'liar', 'plant', 'acted', 'broke', 'settled', 'gray', 'palter', 'perturbation', 'due', 'shame', 'warrant', 'false', 'assassination', 'throne', 'except', 'soundly', 'challenge', 'rightly', 'posterity', 'chimney', 'toe', 'bounty', 'demerit', 'hidden', 'augment', 'slope', 'predominant', 'sanctity', 'note', 'viewing', 'rug', 'assault', 'nine', 'rancour', 'greet', 'sole', 'nipple', 'buckle', 'trifle', 'boot', 'fury', 'macbeth', 'saw', 'stretch', 'bright', 'reconcile', 'delinquent', 'safely', 'sun', 'king', 'applaud', 'older', 'riddle', 'swinish', 'question', 'performance', 'say', 'blaspheming', 'payment', 'disposition', 'cast', 'ready', 'greyhound', 'nothing', 'eldest', 'told', 'de', 'or', 'disorder', 'ran', 'try', 'encounter', 'voice', 'fillet', 'gall', 'came', 'sleepes', 'wrath', 'chance', 'shriek', 'feast', 'weed', 'seat', 'off', 'exit', 'stone', 'innocent', 'thus', 'also', 'obedience', 'rhinoceros', 'wall', 'sound', 'lost', 'appall', 'lime', 'mansion', 'excite', 'beauteous', 'felt', 'grow', 'lamentings', 'horrid', 'writ', 'title', 'twice', 'smile', 'cease', 'borne', 'argument', 'locke', 'return', 'large', 'dyed', 'statute', 'expire', 'care', 'agitation', 'easier', 'goodly', 'chamber', 'shakespeare', 'cam', 'vantage', 'gibbet', 'sorry', 'spoken', 'truest', 'brandish', 'paine', 'sticking', 'miserable', 'had', 'foe', 'parley', 'hail', 'n', 'hardly', 'memorize', 'peace', 'while', 'charmed', 'skipping', 'ship', 'bin', 'reeking', 'thought', 'brag', 'double', 'tell', 'napkin', 'office', 'strangled', 'not', 'cat', 'disguising', 'appease', 'no', 'rid', 'smother', 'sorely', 'imaginings', 'appeares', 'mac', 'profession', 'extend', 'killing', 'destruction', 'lighted', 'let', 'wee', 'nimbly', 'past', 'it', 'threat', 'apply', 'holy', 'treachery', 'meanes', 'russian', 'added', 'proper', 'empty', 'croakes', 'primrose', 'many', 'seedes', 'pendant', 'seeling', 'hence', 'throat', 'great', 'sewer', 'oftentimes', 'hole', 'nobly', 'know', 'botch', 'construction', 'take', 'spaniel', 'isle', 'newest', 'transported', 'blame', 'child', 'creation', 'heat', 'tarrying', 'enough', 'scotland', 'vessel', 'le', 'repent', 'mark', 's', 'owe', 'pull', 'haste', 'sensible', 'returnes', 'handed', 'bring', 'delicate', 'trembling', 'adder', 'knee', 'wayward', 'non', 'gap', 'willing', 'flight', 'welcome', 'thanks', 'nest', 'confounds', 'hunter', 'lesser', 'la', 'murderer', 'tied', 'bath', 'dread', 'hatch', 'addition', 'cauldron', 'light', 'letter', 'th', 'bone', 'inform', 'then', 'dunnest', 'posset', 'weepes', 'orphan', 'r', 'weares', 'coward', 'oracle', 'rent', 'but', 'laudable', 'moment', 'interdiction', 'hose', 'wrongly', 'serpent', 'whin', 'commission', 'prayer', 'happily', 're', 'pardon', 'strangles', 'stake', 'neerer', 'thereby', 'enter', 'sir', 'parricide', 'armor', 'speak', 'exasperate', 'wilde', 'wood', 'request', 'repetition', 'stood', 'thrice', 'doubt', 'desire', 'open', 'breech', 'doe', 'taking', 'head', 'repentance', 'pillowes', 'patience', 'set', 'hanging', 'once', 'don', 'faint', 'painting', 'sometime', 'blast', 'mine', 'lac', 'shine', 'serious', 'tree', 'song', 'deny', 'ro', 'brought', 'acheron', 'gripe', 'whetstone', 'went', 'v', 'ghost', 'quarry', 'sting', 'monument', 'monstrous', 'south', 'angry', 'surgeon', 'gone', 'warlike', 'blood', 'must', 'greatest', 'falles', 'safer', 'confound', 'through', 'kinsman', 'lightning', 'flyes', 'vision', 'bloody', 'vice', 'sleeper', 'offer', 'humbly', 'scepter', 'longer', 'bough', 'imperfect', 'braines', 'outward', 'belt', 'steep', 'society', 'pluckes', 'made', 'laying', 'future', 'affection', 'so', 'roughest', 'rung', 'woe', 'nightly', 'sowes', 'hereafter', 'building', 'supply', 'occasion', 'emptying', 'tiger', 'worth', 'rise', 'table', 'spend', 'gore', 'grapple', 'petty', 'stirring', 'stickes', 'concord', 'bat', 'rumour', 'banish', 'delight', 'peeres', 'palpable', 'valued', 'bid', 'moue', 'transpose', 'wish', 'balles', 'tender', 'fiend', 'away', 'house', 'bird', 'intelligence', 'lent', 'groanes', 'end', 'flower', 'buy', 'speculation', 'd', 'grafted', 'crew', 'dreames', 'visited', 'snore', 'rookie', 'shard', 'key', 'straight', 'company', 'topple', 'pernicious', 'thirst', 'antique', 'awake', 'edge', 'paye']\n",
            "Length of filtered lemmas list:  1929\n"
          ],
          "name": "stdout"
        }
      ]
    },
    {
      "metadata": {
        "id": "qGOAqUuNLio9",
        "colab_type": "text"
      },
      "cell_type": "markdown",
      "source": [
        "# Lesson 4: Levenshtein distance \n",
        "\n",
        "Try to implement the Levenshtein edit distance yourself. Here a brief example of what it was: \n",
        "\n",
        "* If s is \"test\" and t is \"test\", then LD(s,t) = 0, because no transformations are needed. The strings are already identical.\n",
        "* If s is \"test\" and t is \"tent\", then LD(s,t) = 1, because one substitution (change \"s\" to \"n\") is sufficient to transform s into t. \n",
        "\n",
        "The steps that are needed for the algorithm to work are: \n",
        "\n",
        "\n",
        "1.   Set n to be the length of string1. Set m to be the length of string2. If n=0, return m and exit. If m = 0, return n and exit.\n",
        "2.   Create a matrix containing 0 to m rows and 0 to n columns. Initialize the first row to 0 to n and the first colum to 0 to m. Our        string1 should be the longer string for this algorithm to work, so we need to check the length and replace the two strings if \n",
        "       necessary. String1 is written to column 0 and string2 to row 0. \n",
        "3.   Start in cell matrix[0,0] and compare the first row element with the first column element - they are both \"Null\", so we write   \n",
        "       zero into the cell matrix[0,0]\n",
        "4.   Go to the next cell matrix[1,1] and compare the chacaters. There are two options here: \n",
        "       a) the characters are identical: copy the diagonal element to the left \n",
        "       b) the characters are not identical: take the minimum value of the three cells diagonal left, left element, or element above \n",
        "       and add 1 to it \n",
        "5.   Iterate over the whole matrix repeating step 4\n",
        "6.   Return the last diagonal element that corresponds to the edit distance\n"
      ]
    },
    {
      "metadata": {
        "id": "VQNm0U-NItIc",
        "colab_type": "code",
        "outputId": "f91bf66b-3b30-4a6c-d917-580b0f95bce6",
        "colab": {
          "resources": {
            "http://localhost:8080/nbextensions/google.colab/files.js": {
              "data": "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",
              "ok": true,
              "headers": [
                [
                  "content-type",
                  "application/javascript"
                ]
              ],
              "status": 200,
              "status_text": "OK"
            }
          },
          "base_uri": "https://localhost:8080/",
          "height": 109
        }
      },
      "cell_type": "code",
      "source": [
        "# Exercise: upload the Levenshtein test file from the tutorial2 folder on \n",
        "# github and use it to test your implementation of the algorithm below\n",
        "from google.colab import files\n",
        "\n",
        "files.upload()"
      ],
      "execution_count": 0,
      "outputs": [
        {
          "output_type": "display_data",
          "data": {
            "text/html": [
              "\n",
              "     <input type=\"file\" id=\"files-f63dc83a-0082-4a65-8e2e-ca64f51d5c9e\" name=\"files[]\" multiple disabled />\n",
              "     <output id=\"result-f63dc83a-0082-4a65-8e2e-ca64f51d5c9e\">\n",
              "      Upload widget is only available when the cell has been executed in the\n",
              "      current browser session. Please rerun this cell to enable.\n",
              "      </output>\n",
              "      <script src=\"/nbextensions/google.colab/files.js\"></script> "
            ],
            "text/plain": [
              "<IPython.core.display.HTML object>"
            ]
          },
          "metadata": {
            "tags": []
          }
        },
        {
          "output_type": "stream",
          "text": [
            "Saving testFile.txt to testFile.txt\n"
          ],
          "name": "stdout"
        },
        {
          "output_type": "execute_result",
          "data": {
            "text/plain": [
              "{'testFile.txt': b'String1;String2;distance\\nbook;back;2\\ntest;tent;1\\nindustry;interest;6\\ngumbo;gambol;2\\ninterest;interest;0\\ntoday;tomorrow;6\\nyesterday;tomorrow;8\\nday;night;5\\nabove;below;5'}"
            ]
          },
          "metadata": {
            "tags": []
          },
          "execution_count": 4
        }
      ]
    },
    {
      "metadata": {
        "id": "5SAxLNNjGyKP",
        "colab_type": "code",
        "outputId": "bd7d7cd2-8a22-4c04-f8ea-e6e6651dc91e",
        "colab": {
          "base_uri": "https://localhost:8080/",
          "height": 107
        }
      },
      "cell_type": "code",
      "source": [
        "# Exercise: try to write your own version of the algorithm described \n",
        "# in the text cell above\n",
        "\n",
        "# Exercise: try to write your own version of the algorithm described \n",
        "# in the text cell above\n",
        "\n",
        "def levenshtein(string1, string2): \n",
        "  \n",
        "  #lowercase everything\n",
        "  string1 = string1.lower()\n",
        "  string2 = string2.lower()\n",
        "  \n",
        "  # in case the string are equal, the result is 0\n",
        "  if string1 == string2:\n",
        "    return 0\n",
        "  \n",
        "  # create char arrays from the strings\n",
        "  if len(string1) < len(string2):\n",
        "    char_array1 = list(string2) # first char array is longer\n",
        "    char_array2 = list(string1)\n",
        "  else:\n",
        "    char_array1 = list(string1) \n",
        "    char_array2 = list(string2)\n",
        "  char_array1 = [''] + char_array1 # append empty symbol and the beginning of char array\n",
        "  char_array2 = [''] + char_array2\n",
        "  \n",
        "  # initialize empty matrix and the first elements\n",
        "  matrix = [[None for i in range(0,len(char_array2))] for j in range(0,len(char_array1))]\n",
        "  matrix[0][0]=0\n",
        "  for i in range(0,len(char_array1)):\n",
        "    for j in range(0,len(char_array2)):\n",
        "      matrix[i][0] = i\n",
        "      matrix[0][j] = j\n",
        "      \n",
        "  # calculate other elements in a matrix by following the algorithm\n",
        "  for i in range(1,len(char_array1)):\n",
        "    for j in range(1,len(char_array2)):\n",
        "      # if characters are the same, take the diagonal element\n",
        "      if(char_array1[i] == char_array2[j]):\n",
        "        matrix[i][j]= matrix[i-1][j-1]\n",
        "      # if characters are different, take minimum of adjacent elements and add one\n",
        "      else:\n",
        "        matrix[i][j] = min(matrix[i-1][j-1], matrix[i-1][j], matrix[i][j-1]) + 1\n",
        "        \n",
        "  #return the result, the last element of a matrix   \n",
        "  return matrix[len(char_array1)-1][len(char_array2)-1]\n",
        "\n",
        "# test the function with various cases\n",
        "str1 = \"Lala\"\n",
        "str2 = \"lala\"\n",
        "print(\"For words\",str1,\"and\",str2,\"the result of the Levenshtein distance is\" ,levenshtein(str1,str2))\n",
        "\n",
        "print(\"For words\",\"Gumbo\",\"and\",\"Gambol\",\"the result of the Levenshtein distance is\" ,levenshtein(\"Gumbo\",\"Gambol\"))\n",
        "\n",
        "print(\"For words\",\"book\",\"and\",\"back\",\"the result of the Levenshtein distance is\" ,levenshtein(\"book\",\"back\"))\n",
        "\n",
        "print(\"For words\",\"ambition\",\"and\",\"ambiguous\",\"the result of the Levenshtein distance is\" ,levenshtein(\"ambition\",\"ambiguous\"))\n",
        "\n",
        "print(\"For words\",\"interactivity\",\"and\",\"fidelity\",\"the result of the Levenshtein distance is\" ,levenshtein(\"interactivity\",\"fidelity\"))  "
      ],
      "execution_count": 0,
      "outputs": [
        {
          "output_type": "stream",
          "text": [
            "For words Lala and lala the result of the Levenshtein distance is 0\n",
            "For words Gumbo and Gambol the result of the Levenshtein distance is 2\n",
            "For words book and back the result of the Levenshtein distance is 2\n",
            "For words ambition and ambiguous the result of the Levenshtein distance is 4\n",
            "For words interactivity and fidelity the result of the Levenshtein distance is 9\n"
          ],
          "name": "stdout"
        }
      ]
    },
    {
      "metadata": {
        "id": "nYFg7zeyDrGP",
        "colab_type": "code",
        "outputId": "a280770b-c4c8-44d6-b39c-331acbdc13c9",
        "colab": {
          "base_uri": "https://localhost:8080/",
          "height": 35
        }
      },
      "cell_type": "code",
      "source": [
        "text = open(\"testFile.txt\", \"r\")\n",
        "\n",
        "total = 0\n",
        "recognized = 0\n",
        "\n",
        "for line in text.readlines()[1:]:\n",
        "    word1= line.split(\";\")[0]\n",
        "    word2 = line.split(\";\")[1]\n",
        "    distance = line.split(\";\")[2]\n",
        "    total += 1\n",
        "    distance_result = levenshtein(word1,word2)\n",
        "    if(distance_result == int(distance)):\n",
        "      recognized += 1\n",
        "      \n",
        "print(\"Recognized\", (recognized/total) * 100 , \"percent\")"
      ],
      "execution_count": 0,
      "outputs": [
        {
          "output_type": "stream",
          "text": [
            "Recognized 100.0 percent\n"
          ],
          "name": "stdout"
        }
      ]
    }
  ]
}