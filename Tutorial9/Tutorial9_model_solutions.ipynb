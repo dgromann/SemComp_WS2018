{
  "nbformat": 4,
  "nbformat_minor": 0,
  "metadata": {
    "colab": {
      "name": "Tutorial9_model_solutions.ipynb",
      "version": "0.3.2",
      "provenance": [],
      "collapsed_sections": [],
      "include_colab_link": true
    },
    "kernelspec": {
      "name": "python3",
      "display_name": "Python 3"
    },
    "accelerator": "GPU"
  },
  "cells": [
    {
      "cell_type": "markdown",
      "metadata": {
        "id": "view-in-github",
        "colab_type": "text"
      },
      "source": [
        "<a href=\"https://colab.research.google.com/github/dgromann/SemComp_WS2018/blob/master/Tutorial9/Tutorial9_model_solutions.ipynb\" target=\"_parent\"><img src=\"https://colab.research.google.com/assets/colab-badge.svg\" alt=\"Open In Colab\"/></a>"
      ]
    },
    {
      "metadata": {
        "id": "NqBj76rSaQyU",
        "colab_type": "text"
      },
      "cell_type": "markdown",
      "source": [
        "\n",
        "# Lesson 0.0.0: Store this notebook! \n",
        "\n",
        "Go to \"File\" and make sure you store this file as a local copy to either GitHub or your Google Drive. If you do not have a Google account and also do not want to create one, please check Option C below. "
      ]
    },
    {
      "metadata": {
        "id": "Ddv-6ADkjtQ-",
        "colab_type": "text"
      },
      "cell_type": "markdown",
      "source": [
        "Option A) Google Drive WITH collaboration\n",
        "\n",
        "If you want to work in a collaborative manner where each of you in the group can see each other's contributions, one of you needs to store the notebook in Google Drive and share it with the others. You share it by clicking on the SHARE button on the top right of this page and share the link with the \"everyone who receives this link can edit\" option with the other team members per e-mail, skype, or any other way you prefer.\n",
        "\n",
        "If you work with others, keep in mind to always copy the code before you edit it and always indicate your name as a comment (e.g. #Dagmar ) in the cell that it is clear who wrote which part. I also recommend creating a new code cell for your contributions."
      ]
    },
    {
      "metadata": {
        "id": "MWvHoYoAjwtm",
        "colab_type": "text"
      },
      "cell_type": "markdown",
      "source": [
        "Option B) Github without collaboration\n",
        "\n",
        "Collaborative functions are not available when storing the notebook in GitHub; you will see your own work but not that of others.\n"
      ]
    },
    {
      "metadata": {
        "id": "FK33HnCZjyot",
        "colab_type": "text"
      },
      "cell_type": "markdown",
      "source": [
        "Option C) Download this notebook as ipynb (Jupyter notebook) or py (Python file)\n",
        "\n",
        "To run either of these on your local machine requires the installation of the required programs, which for the first tutorial are Python and NLTK. This will become more as we continue on to machine learning (requiring sklearn) and deep learning (requiring tensorflow and/or pytorch). In Google Codelab all of these are provided and do not need to be installed locally.\n",
        "\n",
        "This tutorial has been adapted from [this pytorch Seq2Seq tutorial](https://pytorch.org/tutorials/intermediate/seq2seq_translation_tutorial.html)."
      ]
    },
    {
      "metadata": {
        "id": "ddEJOIz1NkYF",
        "colab_type": "text"
      },
      "cell_type": "markdown",
      "source": [
        "# Lesson 1.0: Encoder-Decoder Sequence to Sequence Learning with Attention\n",
        "\n",
        "Before we get into ontology learning we need to understand the architecture. So today we will build an encoder decoder sequence to sequence learning model with attention that we will use next week to build ontologies automatically from text. The problem will be restricted to certain type of sequences to translate to a specific case of ontological statement, since the overall problem of ontology learning is an open problem. "
      ]
    },
    {
      "metadata": {
        "id": "PjNNMifuXWYV",
        "colab_type": "text"
      },
      "cell_type": "markdown",
      "source": [
        "## Exercises in this lesson\n",
        "\n",
        "**Before** you get started with coding, answer the following questions: \n",
        "1.   What is the problem we want to solve here? What is our prediction?\n",
        "2.   What are the preprocessing steps? (here you can run the cells under point 1.1.) \n",
        "3.   Which type of optimizer does this code use and with which batch configuration?\n",
        "4.   Which kind of other optimization is done below? \n",
        "\n",
        "Answers: \n",
        "1. NMT where we translate from English to German \n",
        "2. We insert a blank space to the punctuation so that it is not attached to words (e.g. dog! vs. dog !) and we remove everything but .!? and actual letters including some special German characters, such as ä\n",
        "3. SGD with full batch - update after each input and output sequence\n",
        "4. Attention and dropout \n",
        "\n",
        "**These are the programming steps of today: **\n",
        "1.   Write your own Encoder\n",
        "2.   Complete the Decoder \n",
        "3.   Start a training run (see # Exercise comments below)\n",
        "4.   Evaluate the model using the existing functions \n",
        "\n",
        "**After** you have finished training and evlauating, answer the following questions:\n",
        "1.   Where do we have to place the attention layer? What does it take as input? What is the output?\n",
        "2.   What is the difference between loss and perplexity (ppl)?\n",
        "3.   How could we improve the optimization in training?\n",
        "4.   How could we improve the evaluation? \n",
        "\n",
        "\n",
        "Answers: \n",
        "1. Right at the beginning of the decoder. It takes the embeddings (dropped out) of the input sequence (English) as input.\n",
        "2. Loss is the loss function output (negative log likelihood here) which tells us far we are from the real answer for each sequence (average over batch) whereas perplexity uses the accumulated loss to calculate how confident the model is in its predictions\n",
        "3. We could turn the approach into mini-batch and use beam search. A different optimizer with a decaying learning rate could obtain better results. We could consider doing batch normalization.\n",
        "4. We should do a complete evaluation using BLEU or a similar metric. "
      ]
    },
    {
      "metadata": {
        "id": "Q_PYsx-NMblB",
        "colab_type": "code",
        "outputId": "7123fc06-f999-4121-e044-5c1e47bb4707",
        "colab": {
          "base_uri": "https://localhost:8080/",
          "height": 34
        }
      },
      "cell_type": "code",
      "source": [
        "!pip3 install torch\n",
        "\n",
        "import unicodedata\n",
        "import string\n",
        "import re\n",
        "import random\n",
        "import numpy as np\n",
        "\n",
        "import torch\n",
        "import torch.nn as nn\n",
        "import torch.nn.functional as F\n",
        "from torch import optim\n",
        "from torch.utils.data import random_split\n",
        "\n",
        "device = torch.device(\"cuda\" if torch.cuda.is_available() else \"cpu\")"
      ],
      "execution_count": 2,
      "outputs": [
        {
          "output_type": "stream",
          "text": [
            "Requirement already satisfied: torch in /usr/local/lib/python3.6/dist-packages (1.0.0)\n"
          ],
          "name": "stdout"
        }
      ]
    },
    {
      "metadata": {
        "id": "IzeuNvHPQtmN",
        "colab_type": "text"
      },
      "cell_type": "markdown",
      "source": [
        "## 1.1 Datasets\n",
        "\n",
        "In Neural Machine Translation (NMT) research it is common to use the datasets provided by the Shared Task on Machine Translation at the Workshop on Statistical Machine Translation (WMT), especially [WMT'14](http://www.statmt.org/wmt14/translation-task.html) with a more polished version provided on this [Stanford project page](https://nlp.stanford.edu/projects/nmt/). However, those datasets have 4.5 M parallele sentences, which takes too long for us to compute today. \n",
        "\n",
        "Instead, we are going to use a smaller corpus provided at the [Tatoeba project](https://www.manythings.org/anki/). The version below is targeted at German to English but feel free to replace the languages by any pair you are interested in. Translation pairs are tab delimitied: \n",
        "\n",
        "\n",
        "\n",
        "\n",
        "```\n",
        "I'm up.\t  Ich bin wach.\n",
        "Go ahead!\tNur zu!\n",
        "I get by.\tIch komme klar.\n",
        "```\n",
        "\n"
      ]
    },
    {
      "metadata": {
        "id": "O0gUALFSSEWU",
        "colab_type": "code",
        "outputId": "3782b119-a10f-45e6-b4c6-5900bbab8c3d",
        "colab": {
          "base_uri": "https://localhost:8080/",
          "height": 208
        }
      },
      "cell_type": "code",
      "source": [
        "# Loading the dataset\n",
        "!wget https://raw.githubusercontent.com/dgromann/SemComp_WS2018/master/Tutorial9/en_de.txt"
      ],
      "execution_count": 3,
      "outputs": [
        {
          "output_type": "stream",
          "text": [
            "--2019-02-03 13:54:49--  https://raw.githubusercontent.com/dgromann/SemComp_WS2018/master/Tutorial9/en_de.txt\n",
            "Resolving raw.githubusercontent.com (raw.githubusercontent.com)... 151.101.0.133, 151.101.64.133, 151.101.128.133, ...\n",
            "Connecting to raw.githubusercontent.com (raw.githubusercontent.com)|151.101.0.133|:443... connected.\n",
            "HTTP request sent, awaiting response... 200 OK\n",
            "Length: 12816559 (12M) [text/plain]\n",
            "Saving to: ‘en_de.txt’\n",
            "\n",
            "en_de.txt           100%[===================>]  12.22M  --.-KB/s    in 0.1s    \n",
            "\n",
            "2019-02-03 13:54:49 (98.7 MB/s) - ‘en_de.txt’ saved [12816559/12816559]\n",
            "\n"
          ],
          "name": "stdout"
        }
      ]
    },
    {
      "metadata": {
        "id": "dy9EP8BlU_vp",
        "colab_type": "text"
      },
      "cell_type": "markdown",
      "source": [
        "### Preparing the data\n",
        "\n",
        "As usual with natural language and neural networks, we need to find out the exact vocabulary of our dataset in both languages. This vocabulary is then matched with a quantifiable index. The index in turn is used to create our one-hot encodings. In contrast, to the toy example on character-level text generation last time, we will do a proper preparing of our data. \n",
        "\n",
        "This means that by convention we mark our sequences with a \"Start of Sentence\" (**SOS**) token to indicate the start and \"End of Sentence\" (**EOS**), which clearly demarcates the end of the input and has to be the end of the prediction when we finished training. "
      ]
    },
    {
      "metadata": {
        "id": "nd0Ut99VWm1S",
        "colab_type": "code",
        "colab": {}
      },
      "cell_type": "code",
      "source": [
        "SOS_token = 0 \n",
        "EOS_token = 1\n",
        "\n",
        "MAX_LENGTH = 10\n",
        "\n",
        "class WordIndexer: \n",
        "  def __init__(self):\n",
        "    self.word2index = {}\n",
        "    self.word2count = {}\n",
        "    self.index2word = {SOS_token:\"<SOS>\", EOS_token:\"<EOS>\"} \n",
        "    \n",
        "  def addSequence(self, sequence):\n",
        "    for word in sequence.split():\n",
        "      self.addWord(word)\n",
        "  \n",
        "  def addWord(self, word): \n",
        "    if word not in self.word2index:\n",
        "      self.word2index[word] = len(self.index2word)\n",
        "      self.word2count[word] = 1\n",
        "      self.index2word[len(self.index2word)] = word \n",
        "    else: \n",
        "      self.word2count[word] += 1 \n",
        "\n",
        "def filterPair(p):\n",
        "    return len(p[0].split(' ')) < MAX_LENGTH and \\\n",
        "        len(p[1].split(' ')) < MAX_LENGTH\n",
        "\n",
        "\n",
        "def filterPairs(pairs):\n",
        "    return [pair for pair in pairs if filterPair(pair)]"
      ],
      "execution_count": 0,
      "outputs": []
    },
    {
      "metadata": {
        "id": "Rp8M5rq8bYp4",
        "colab_type": "code",
        "outputId": "86d37ee2-0ce5-49bb-cae0-779691150dad",
        "colab": {
          "base_uri": "https://localhost:8080/",
          "height": 104
        }
      },
      "cell_type": "code",
      "source": [
        "# We need to read the text file and align the translation pairs\n",
        "# that are tab delimited in the original data set \n",
        "\n",
        "# Lowercase, trim, and remove non-letter characters\n",
        "def normalize(sequence):\n",
        "    sequence = sequence.lower().strip()\n",
        "    sequence = re.sub(r\"([.!?])\", r\" \\1\", sequence)\n",
        "    sequence = re.sub(r\"[^a-zA-Z.!?äüöß]+\", r\" \", sequence)\n",
        "    return sequence\n",
        "\n",
        "#We read the data, split them into lines, and then separate them into pairs\n",
        "def readData(filename):\n",
        "    lines = open(filename, encoding='utf8').read().strip().split('\\n')\n",
        "    pairs = [[normalize(s) for s in l.split('\\t')] for l in lines]      \n",
        "    return pairs\n",
        "  \n",
        "def prepareData(filename): \n",
        "  pairs = readData(filename)\n",
        "  print(\"Length of sentence pairs: \", len(pairs))\n",
        "  pairs = filterPairs(pairs)\n",
        "  print(\"Length of filtered pairs trimmed is %s with Max_legnth %s \" % (len(pairs), MAX_LENGTH))\n",
        "  input_lang = WordIndexer()\n",
        "  output_lang = WordIndexer()\n",
        " \n",
        "  for pair in pairs:\n",
        "    input_lang.addSequence(pair[0])\n",
        "    output_lang.addSequence(pair[1])\n",
        "    \n",
        "  print(\"Number of words in input language: \", len(input_lang.index2word))\n",
        "  print(\"Number of words in output language: \", len(output_lang.index2word))\n",
        "  \n",
        "  return input_lang, output_lang, pairs\n",
        "\n",
        "input_lang, output_lang, pairs = prepareData(\"en_de.txt\")\n",
        "print(random.choice(pairs))"
      ],
      "execution_count": 5,
      "outputs": [
        {
          "output_type": "stream",
          "text": [
            "Length of sentence pairs:  176692\n",
            "Length of filtered pairs trimmed is 132991 with Max_legnth 10 \n",
            "Number of words in input language:  12434\n",
            "Number of words in output language:  24789\n",
            "['he put down his thoughts in his notebook .', 'er schrieb seine gedanken in sein notizbuch nieder .']\n"
          ],
          "name": "stdout"
        }
      ]
    },
    {
      "metadata": {
        "id": "4YWR_v9Nq168",
        "colab_type": "text"
      },
      "cell_type": "markdown",
      "source": [
        "## 1.2 Building the model\n",
        "\n",
        "The model today is an encoder-decoder sequence to sequence model with attention. So basically it is two models (encoder and decoder) combined into one bigger architecture."
      ]
    },
    {
      "metadata": {
        "id": "cybhrpr7rW1F",
        "colab_type": "text"
      },
      "cell_type": "markdown",
      "source": [
        "### Encoder"
      ]
    },
    {
      "metadata": {
        "id": "pXZQuJaprV1b",
        "colab_type": "code",
        "colab": {}
      },
      "cell_type": "code",
      "source": [
        "class EncoderRNN(nn.Module):\n",
        "    def __init__(self, input_size, hidden_size):\n",
        "        super(EncoderRNN, self).__init__()\n",
        "        self.hidden_size = hidden_size\n",
        " \n",
        "        # Exercise: Initialize the Embedding layer and a Gated Recurrent Unit layer\n",
        "        self.embedding = nn.Embedding(input_size, hidden_size)\n",
        "        self.gru = nn.GRU(hidden_size, hidden_size)\n",
        "  \n",
        "    def forward(self, input, hidden):\n",
        "        # Exercise: Complete the forward function (embedding requires view(1, 1, -1)) \n",
        "        embedded = self.embedding(input).view(1, 1, -1)\n",
        "        output = embedded\n",
        "        output, hidden = self.gru(output, hidden)\n",
        "        return output, hidden\n",
        "\n",
        "    def initHidden(self):\n",
        "        return torch.zeros(1, 1, self.hidden_size, device=device)"
      ],
      "execution_count": 0,
      "outputs": []
    },
    {
      "metadata": {
        "id": "G7O2vRQVr7NI",
        "colab_type": "text"
      },
      "cell_type": "markdown",
      "source": [
        "### Decoder with Attention"
      ]
    },
    {
      "metadata": {
        "id": "IOge7MtYzNkj",
        "colab_type": "code",
        "colab": {}
      },
      "cell_type": "code",
      "source": [
        "class AttnDecoderRNN(nn.Module):\n",
        "    def __init__(self, hidden_size, output_size, dropout_p=0.1, max_length=MAX_LENGTH):\n",
        "        super(AttnDecoderRNN, self).__init__()\n",
        "        self.hidden_size = hidden_size\n",
        "        self.output_size = output_size\n",
        "        self.dropout_p = dropout_p\n",
        "        self.max_length = max_length\n",
        "        \n",
        "        # Exercise: Write an Embedding layer \n",
        "        self.embedding = nn.Embedding(self.output_size, self.hidden_size)\n",
        "\n",
        "        # Attention and dropout layer are already provided for you \n",
        "        self.attn = nn.Linear(self.hidden_size * 2, self.max_length)\n",
        "        self.attn_combine = nn.Linear(self.hidden_size * 2, self.hidden_size)\n",
        "        self.dropout = nn.Dropout(self.dropout_p)\n",
        "        \n",
        "        \n",
        "        # Exercise: Write a hidden layer as GRU and a Linear layer to the output\n",
        "        self.gru = nn.GRU(self.hidden_size, self.hidden_size)\n",
        "        self.out = nn.Linear(self.hidden_size, self.output_size)  \n",
        "        \n",
        "    def forward(self, input, hidden, encoder_outputs):\n",
        "        embedded = self.embedding(input).view(1, 1, -1)\n",
        "        embedded = self.dropout(embedded)\n",
        "\n",
        "        attn_weights = F.softmax(\n",
        "            self.attn(torch.cat((embedded[0], hidden[0]), 1)), dim=1)\n",
        "        attn_applied = torch.bmm(attn_weights.unsqueeze(0),\n",
        "                                 encoder_outputs.unsqueeze(0))\n",
        "\n",
        "        output = torch.cat((embedded[0], attn_applied[0]), 1)\n",
        "        output = self.attn_combine(output).unsqueeze(0)  # Unsqueeze teturns a new tensor with a dimension of size one inserted at the specified position.\n",
        "\n",
        "        output = F.relu(output)\n",
        "        output, hidden = self.gru(output, hidden)\n",
        "\n",
        "        output = F.log_softmax(self.out(output[0]), dim=1)\n",
        "        return output, hidden, attn_weights\n",
        "\n",
        "    def initHidden(self):\n",
        "        return torch.zeros(1, 1, self.hidden_size, device=device)"
      ],
      "execution_count": 0,
      "outputs": []
    },
    {
      "metadata": {
        "id": "4Q95Gank6A8T",
        "colab_type": "text"
      },
      "cell_type": "markdown",
      "source": [
        "### Training"
      ]
    },
    {
      "metadata": {
        "id": "72DVrHMq6Cn0",
        "colab_type": "code",
        "colab": {}
      },
      "cell_type": "code",
      "source": [
        "def tensorFromSentence(lang, sentence):\n",
        "    indexes = [lang.word2index[word] for word in sentence.split(' ') if len(word) > 0]\n",
        "    indexes.append(EOS_token)\n",
        "    return torch.tensor(indexes, dtype=torch.long, device=device).view(-1, 1)\n",
        "  \n",
        "def tensorsFromPair(pair):\n",
        "    input_tensor = tensorFromSentence(input_lang, pair[0])\n",
        "    target_tensor = tensorFromSentence(output_lang, pair[1])\n",
        "    return (input_tensor, target_tensor)"
      ],
      "execution_count": 0,
      "outputs": []
    },
    {
      "metadata": {
        "id": "oto3DCSsuNpj",
        "colab_type": "code",
        "colab": {}
      },
      "cell_type": "code",
      "source": [
        "training_size = math.ceil(len(pairs)*0.8)\n",
        "val_size = int((len(pairs) - training_size) / 2)\n",
        "    \n",
        "training_data, validation_data, test_data = random_split(pairs, [training_size, val_size, val_size])\n",
        "    \n",
        "def training(encoder, decoder, n_iters=10000, print_every=100, plot_every=1000, learning_rate=0.01):\n",
        "    \n",
        "    start = time.time()\n",
        "    losses = [] # Stores the actual losses\n",
        "    plot_losses = [] # Stores the average losses\n",
        "    print_loss_total = 0  # Reset every print_every\n",
        "    plot_loss_total = 0  # Reset every plot_every\n",
        "\n",
        "    encoder_optimizer = optim.SGD(encoder.parameters(), lr=learning_rate)\n",
        "    decoder_optimizer = optim.SGD(decoder.parameters(), lr=learning_rate)\n",
        "    criterion = nn.NLLLoss()\n",
        "   \n",
        "    training_pairs = [tensorsFromPair(random.choice(training_data)) for i in range(n_iters)]                                      \n",
        "    \n",
        "    for iter in range(1, n_iters + 1):\n",
        "        #as always, initialize hidden state and reset gradients \n",
        "        encoder_hidden = encoder.initHidden()\n",
        "        encoder_optimizer.zero_grad()\n",
        "        decoder_optimizer.zero_grad()\n",
        "        \n",
        "        # get training pair \n",
        "        training_pair = training_pairs[iter - 1]\n",
        "        input_tensor = training_pair[0]\n",
        "        target_tensor = training_pair[1]\n",
        "        \n",
        "        input_length = input_tensor.size(0)\n",
        "        target_length = target_tensor.size(0)\n",
        "    \n",
        "        loss = 0\n",
        "         \n",
        "        encoder_outputs = torch.zeros(MAX_LENGTH, encoder.hidden_size, device=device)\n",
        "        \n",
        "        # We run through the input sequence\n",
        "        for pos in range(input_length):\n",
        "          encoder_output, encoder_hidden = encoder(input_tensor[pos], encoder_hidden)\n",
        "          encoder_outputs[pos] = encoder_output[0, 0]\n",
        "          \n",
        "        decoder_input = torch.tensor([[SOS_token]], device=device)\n",
        "        decoder_hidden = encoder_hidden\n",
        "        \n",
        "        # We keep on predicting until we hit EOS - in training we know how long the output sequence should be\n",
        "        for pos in range(target_length):\n",
        "          decoder_output, decoder_hidden, decoder_attention = decoder(decoder_input, decoder_hidden, encoder_outputs)\n",
        "          topv, topi = decoder_output.topk(1) # Returns the k largest elements of the given input tensor along a given dimension.\n",
        "          decoder_input = topi.squeeze().detach() # Squeeze returns a tensor with all the dimensions of input of size 1 removed.\n",
        "\n",
        "          loss += criterion(decoder_output, target_tensor[pos])\n",
        "          if decoder_input.item() == EOS_token:\n",
        "            break\n",
        "        \n",
        "        loss.backward()\n",
        "\n",
        "        encoder_optimizer.step()\n",
        "        decoder_optimizer.step()\n",
        "    \n",
        "        loss = loss.item() / target_length \n",
        "        \n",
        "        losses.append(loss)\n",
        "        print_loss_total += loss\n",
        "        plot_loss_total += loss\n",
        "       \n",
        "\n",
        "        if iter % print_every == 0:\n",
        "            print_loss_avg = print_loss_total / print_every\n",
        "            print_loss_total = 0\n",
        "            print('%s (%d %d%%) loss: %s ppl: %.4f' % (timeSince(start, iter / n_iters),\n",
        "                                         iter, iter / n_iters * 100, print_loss_avg, np.exp(np.mean(losses))))\n",
        "\n",
        "        if iter % plot_every == 0:\n",
        "            plot_loss_avg = plot_loss_total / plot_every\n",
        "            plot_losses.append(plot_loss_avg)\n",
        "            plot_loss_total = 0\n",
        "    \n",
        "    showPlot(plot_losses)"
      ],
      "execution_count": 0,
      "outputs": []
    },
    {
      "metadata": {
        "id": "e9aEjRwB9ZB4",
        "colab_type": "code",
        "outputId": "21043abd-a076-42dc-964c-fd5c8fc4e91f",
        "colab": {
          "base_uri": "https://localhost:8080/",
          "height": 712
        }
      },
      "cell_type": "code",
      "source": [
        "hidden_size = 256\n",
        "# Exercise: initialize the encoder and attn_decoder and do a training run \n",
        "# for all of these the functions are provided - you need to set the right parameters\n",
        "# Run the utility cell below before you run the training function\n",
        "encoder = EncoderRNN(len(input_lang.index2word), hidden_size).to(device)\n",
        "attn_decoder = AttnDecoderRNN(hidden_size, len(output_lang.index2word), dropout_p=0.1).to(device)\n",
        "\n",
        "training(encoder, attn_decoder, n_iters=100000, print_every=5000, learning_rate=0.01)"
      ],
      "execution_count": 12,
      "outputs": [
        {
          "output_type": "stream",
          "text": [
            "3m 18s (- 62m 52s) (5000 5%) loss: 4.9594050609268425 ppl: 142.5090\n",
            "6m 33s (- 59m 3s) (10000 10%) loss: 4.4776039061869595 ppl: 112.0006\n",
            "9m 49s (- 55m 37s) (15000 15%) loss: 4.138372821153699 ppl: 92.3077\n",
            "13m 5s (- 52m 21s) (20000 20%) loss: 3.919619229145044 ppl: 79.3406\n",
            "16m 22s (- 49m 7s) (25000 25%) loss: 3.749235780639265 ppl: 70.0247\n",
            "19m 39s (- 45m 51s) (30000 30%) loss: 3.6334708031070053 ppl: 63.1988\n",
            "22m 57s (- 42m 38s) (35000 35%) loss: 3.542159901810521 ppl: 57.9732\n",
            "26m 15s (- 39m 23s) (40000 40%) loss: 3.448084967584976 ppl: 53.7044\n",
            "29m 33s (- 36m 7s) (45000 45%) loss: 3.3347461333999124 ppl: 49.9694\n",
            "32m 53s (- 32m 53s) (50000 50%) loss: 3.2405164576995236 ppl: 46.7270\n",
            "36m 11s (- 29m 36s) (55000 55%) loss: 3.2128319388869113 ppl: 44.1200\n",
            "39m 28s (- 26m 19s) (60000 60%) loss: 3.1513647457050906 ppl: 41.8441\n",
            "42m 45s (- 23m 1s) (65000 65%) loss: 3.090154997171533 ppl: 39.8223\n",
            "46m 3s (- 19m 44s) (70000 70%) loss: 3.0578570258578783 ppl: 38.0794\n",
            "49m 21s (- 16m 27s) (75000 75%) loss: 3.0095548020494896 ppl: 36.5129\n",
            "52m 38s (- 13m 9s) (80000 80%) loss: 2.9769759340642388 ppl: 35.1236\n",
            "55m 57s (- 9m 52s) (85000 85%) loss: 2.9055467373961448 ppl: 33.7993\n",
            "59m 16s (- 6m 35s) (90000 90%) loss: 2.894864232176144 ppl: 32.6448\n",
            "62m 35s (- 3m 17s) (95000 95%) loss: 2.8789546399288355 ppl: 31.6189\n",
            "65m 55s (- 0m 0s) (100000 100%) loss: 2.8436275194916667 ppl: 30.6688\n"
          ],
          "name": "stdout"
        },
        {
          "output_type": "display_data",
          "data": {
            "text/plain": [
              "<Figure size 576x396 with 0 Axes>"
            ]
          },
          "metadata": {
            "tags": []
          }
        },
        {
          "output_type": "display_data",
          "data": {
            "image/png": "[encoded data removed]",
            "text/plain": [
              "<Figure size 576x396 with 1 Axes>"
            ]
          },
          "metadata": {
            "tags": []
          }
        }
      ]
    },
    {
      "metadata": {
        "id": "oG7mZGRR7-vP",
        "colab_type": "text"
      },
      "cell_type": "markdown",
      "source": [
        "### Utility functions\n",
        "\n"
      ]
    },
    {
      "metadata": {
        "id": "6pc_b5z879MR",
        "colab_type": "code",
        "colab": {}
      },
      "cell_type": "code",
      "source": [
        "# Plotting the results\n",
        "import matplotlib.pyplot as plt\n",
        "import matplotlib.ticker as ticker\n",
        "\n",
        "def showPlot(points):\n",
        "    plt.figure()\n",
        "    fig, ax = plt.subplots()\n",
        "    loc = ticker.MultipleLocator(base=0.2)\n",
        "    ax.yaxis.set_major_locator(loc)\n",
        "    plt.plot(points)\n",
        "    \n",
        "# Calculating the time since start    \n",
        "import time\n",
        "import math\n",
        "\n",
        "def asMinutes(s):\n",
        "    m = math.floor(s / 60)\n",
        "    s -= m * 60\n",
        "    return '%dm %ds' % (m, s)\n",
        "\n",
        "\n",
        "def timeSince(since, percent):\n",
        "    now = time.time()\n",
        "    s = now - since\n",
        "    es = s / (percent)\n",
        "    rs = es - s\n",
        "    return '%s (- %s)' % (asMinutes(s), asMinutes(rs))"
      ],
      "execution_count": 0,
      "outputs": []
    },
    {
      "metadata": {
        "id": "tKrLsA26726y",
        "colab_type": "text"
      },
      "cell_type": "markdown",
      "source": [
        "### Evaluating the trained model"
      ]
    },
    {
      "metadata": {
        "id": "fPASvBJg8JG-",
        "colab_type": "code",
        "colab": {}
      },
      "cell_type": "code",
      "source": [
        "def evaluate(encoder, decoder, sentence, max_length=MAX_LENGTH):\n",
        "    with torch.no_grad():\n",
        "        input_tensor = tensorFromSentence(input_lang, sentence)\n",
        "        input_length = input_tensor.size()[0]\n",
        "        encoder_hidden = encoder.initHidden()\n",
        "\n",
        "        encoder_outputs = torch.zeros(max_length, encoder.hidden_size, device=device)\n",
        "\n",
        "        for ei in range(input_length):\n",
        "            encoder_output, encoder_hidden = encoder(input_tensor[ei], encoder_hidden)\n",
        "            encoder_outputs[ei] += encoder_output[0, 0]\n",
        "\n",
        "        decoder_input = torch.tensor([[SOS_token]], device=device)  # SOS\n",
        "\n",
        "        decoder_hidden = encoder_hidden\n",
        "\n",
        "        decoded_words = []\n",
        "        decoder_attentions = torch.zeros(max_length, max_length)\n",
        "\n",
        "        for di in range(max_length):\n",
        "            decoder_output, decoder_hidden, decoder_attention = decoder(\n",
        "                decoder_input, decoder_hidden, encoder_outputs)\n",
        "            decoder_attentions[di] = decoder_attention.data\n",
        "            topv, topi = decoder_output.data.topk(1)\n",
        "            if topi.item() == EOS_token:\n",
        "                decoded_words.append('<EOS>')\n",
        "                break\n",
        "            else:\n",
        "                decoded_words.append(output_lang.index2word[topi.item()])\n",
        "\n",
        "            decoder_input = topi.squeeze().detach()\n",
        "\n",
        "        return decoded_words, decoder_attentions[:di + 1]\n",
        "\n",
        "def evaluateRandomly(encoder, decoder, dataset, n=10):\n",
        "    for i in range(n):\n",
        "        pair = random.choice(dataset)\n",
        "        print(\"Input: \", pair[0])\n",
        "        print(\"Target: \", pair[1])\n",
        "        output_words, attentions = evaluate(encoder, decoder, pair[0])\n",
        "        output_sentence = ' '.join(output_words)\n",
        "        print(\"Prediction: \", output_sentence, \"\\n\")\n"
      ],
      "execution_count": 0,
      "outputs": []
    },
    {
      "metadata": {
        "id": "863FO6hGwdjY",
        "colab_type": "code",
        "outputId": "dc6c712d-ca39-43aa-be5e-59bbad405e64",
        "colab": {
          "base_uri": "https://localhost:8080/",
          "height": 390
        }
      },
      "cell_type": "code",
      "source": [
        "output_words, attentions = evaluate(encoder, attn_decoder, random.choice(pairs)[0])\n",
        "print(output_words)\n",
        "plt.matshow(attentions.numpy())"
      ],
      "execution_count": 14,
      "outputs": [
        {
          "output_type": "stream",
          "text": [
            "['hast', 'du', 'mit', 'fertig', '?', '<EOS>']\n"
          ],
          "name": "stdout"
        },
        {
          "output_type": "execute_result",
          "data": {
            "text/plain": [
              "<matplotlib.image.AxesImage at 0x7f106596e5c0>"
            ]
          },
          "metadata": {
            "tags": []
          },
          "execution_count": 14
        },
        {
          "output_type": "display_data",
          "data": {
            "image/png": "[encoded data removed]",
            "text/plain": [
              "<Figure size 660x396 with 1 Axes>"
            ]
          },
          "metadata": {
            "tags": []
          }
        }
      ]
    },
    {
      "metadata": {
        "id": "-wxLKVD4qrWF",
        "colab_type": "code",
        "outputId": "285c9ea8-adb5-41f7-c97b-cd25b38c690a",
        "colab": {
          "base_uri": "https://localhost:8080/",
          "height": 712
        }
      },
      "cell_type": "code",
      "source": [
        "evaluateRandomly(encoder, attn_decoder, test_data, n=10)"
      ],
      "execution_count": 15,
      "outputs": [
        {
          "output_type": "stream",
          "text": [
            "Input:  i don t like those people .\n",
            "Target:  ich mag diese leute nicht .\n",
            "Prediction:  ich mag diese leute nicht . <EOS> \n",
            "\n",
            "Input:  tom lacks discipline .\n",
            "Target:  es fehlt tom an disziplin .\n",
            "Prediction:  tom fehlt das an . . <EOS> \n",
            "\n",
            "Input:  she watches television from four to six .\n",
            "Target:  sie sieht von vier bis sechs fern .\n",
            "Prediction:  sie hat sich zu den . . . <EOS> \n",
            "\n",
            "Input:  tom is no longer living in boston .\n",
            "Target:  tom lebt nicht mehr in boston .\n",
            "Prediction:  tom ist nicht nicht nicht boston . . <EOS> \n",
            "\n",
            "Input:  how many foreign languages do you know ?\n",
            "Target:  wie viele fremdsprachen könnt ihr ?\n",
            "Prediction:  wie viele kennst kennst du ? <EOS> \n",
            "\n",
            "Input:  tom passed out from the heat .\n",
            "Target:  tom hat wegen der hitze das bewusstsein verloren .\n",
            "Prediction:  tom hat aus von der . . <EOS> \n",
            "\n",
            "Input:  i am your father .\n",
            "Target:  ich bin dein vater .\n",
            "Prediction:  ich bin vater vater . . <EOS> \n",
            "\n",
            "Input:  you have to cope with those difficult problems .\n",
            "Target:  du musst diese schwierigen probleme bewältigen .\n",
            "Prediction:  du musst mit mit mit . . <EOS> \n",
            "\n",
            "Input:  i ll sue you .\n",
            "Target:  ich werde dich verklagen .\n",
            "Prediction:  ich werde dir dir . . <EOS> \n",
            "\n",
            "Input:  it looks like a ufo .\n",
            "Target:  es sieht wie ein ufo aus .\n",
            "Prediction:  das sieht ein gut . . . <EOS> \n",
            "\n"
          ],
          "name": "stdout"
        }
      ]
    }
  ]
}