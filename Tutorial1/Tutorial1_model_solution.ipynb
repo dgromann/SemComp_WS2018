{
  "nbformat": 4,
  "nbformat_minor": 0,
  "metadata": {
    "colab": {
      "name": "Copy of Tutorial1.ipynb",
      "version": "0.3.2",
      "provenance": [],
      "collapsed_sections": [],
      "include_colab_link": true
    },
    "kernelspec": {
      "name": "python3",
      "display_name": "Python 3"
    }
  },
  "cells": [
    {
      "cell_type": "markdown",
      "metadata": {
        "id": "view-in-github",
        "colab_type": "text"
      },
      "source": [
        "[View in Colaboratory](https://colab.research.google.com/github/dgromann/SemComp_WS2018/blob/master/Tutorial1/Tutorial1_model_solution.ipynb)"
      ]
    },
    {
      "metadata": {
        "id": "ZvZfzSn7bXVl",
        "colab_type": "text"
      },
      "cell_type": "markdown",
      "source": [
        "# Lesson 0.0.0: Store this notebook! \n",
        "\n",
        "Go to \"File\" and make sure you store this file as a local copy to either GitHub or your Google Drive. If you do not have a Google account and also do not want to create one, please check Option C below. "
      ]
    },
    {
      "metadata": {
        "id": "K7PUvU1f4H7C",
        "colab_type": "text"
      },
      "cell_type": "markdown",
      "source": [
        "\n",
        "Option A)  Google Drive WITH collaboration \n",
        "\n",
        "\n",
        "If you want to work in a **collaborative** manner where each of you in the group can see each other's contributions, one of you needs to store the notebook in **Google Drive** and share it with the others. You share it by clicking on the **SHARE** button on the top right of this page and share the link with the \"everyone who receives this link can edit\" option with the other team members per e-mail, skype, or any other way you prefer. \n",
        "\n",
        "If you work with others, keep in mind to always copy the code before you edit it and always indicate your name as a comment (e.g. #Dagmar ) in the cell that it is clear who wrote which part. I also recommend creating a new code cell for your contributions.  "
      ]
    },
    {
      "metadata": {
        "id": "yVnqNjmt4O3y",
        "colab_type": "text"
      },
      "cell_type": "markdown",
      "source": [
        "Option B) Github without collaboration\n",
        "\n",
        "\n",
        "Collaborative functions are **not available** when storing the notebook in **GitHub**; you will see your own work but not that of others. "
      ]
    },
    {
      "metadata": {
        "id": "3GhgHq-n4hZX",
        "colab_type": "text"
      },
      "cell_type": "markdown",
      "source": [
        "Option C) Download this notebook as ipynb (Jupyter notebook) or py (Python file)\n",
        "\n",
        "To run either of these on your local machine requires the installation of the required programs, which for the first tutorial are Python and NLTK. This will become more as we continue on to machine learning (requiring sklearn) and deep learning (requiring tensorflow and/or pytorch). In Google Codelab all of these are provided and do not need to be installed locally. "
      ]
    },
    {
      "metadata": {
        "id": "jHzL2Qjivc0N",
        "colab_type": "text"
      },
      "cell_type": "markdown",
      "source": [
        "# Lesson 0.0: Hello World\n",
        "\n",
        "Everyone make their own cell, and print \"hello world\".\n",
        "\n",
        "1. Click on the cell below with gray shadowing. The cell will highlight.\n",
        "1. Click the \"+ CODE\" button in the header. This will create a cell in the next line.\n",
        "    * optional: keyboard shortcut: `CMD+M B`\n",
        "1. In this cell, enter:\n",
        "\n",
        "```\n",
        "#for example\n",
        "print(\"Dagmar says \\\"Hello Semantic Computing group\\\"!\")\n",
        "```\n",
        "\n",
        "4. Click on the \"play\" button to the left of the cell. The first time you run a cell in a colab notebook it might take as long as 10-20 seconds to finish. After that, it's a lot faster.\n",
        "    * optional: keyboard shortcut: `SHIFT+ENTER`\n",
        "    \n",
        "-----------\n",
        "\n",
        "\n"
      ]
    },
    {
      "metadata": {
        "id": "1FdcGIjPuBYP",
        "colab_type": "text"
      },
      "cell_type": "markdown",
      "source": [
        "# Lesson 0.1: Python Basics\n",
        "\n",
        "Python is a programming language that uses indentation to structure statements into blocks, instead of brackets. Change the example below so that it can run correctly."
      ]
    },
    {
      "metadata": {
        "id": "nF_cL6UMusZG",
        "colab_type": "code",
        "colab": {}
      },
      "cell_type": "code",
      "source": [
        "# Exercise: what do you need to correct the statement below \n",
        "# so that it runs correctly?\n",
        "x = 1\n",
        "if x == 1:\n",
        "  print(\"x is 1.\")"
      ],
      "execution_count": 0,
      "outputs": []
    },
    {
      "metadata": {
        "id": "mC68rLi-u_KX",
        "colab_type": "text"
      },
      "cell_type": "markdown",
      "source": [
        "Variables and types in Python are very similar to other programming languages. Run the examples below to see what happens. \n",
        "\n",
        "Do the following exercises indicated in the code cell below:"
      ]
    },
    {
      "metadata": {
        "id": "SPtFMmfM10BY",
        "colab_type": "code",
        "cellView": "code",
        "colab": {
          "base_uri": "https://localhost:8080/",
          "height": 104
        },
        "outputId": "7973e509-5bbc-42b9-c9c7-5b6d633623d1"
      },
      "cell_type": "code",
      "source": [
        "# Variables and types\n",
        "my_int = 7\n",
        "print(my_int)\n",
        "my_float = 7.0\n",
        "print(my_float)\n",
        "\n",
        "# Exercise: Explain the following two lines, what happens?\n",
        "# Answer: the following int() provides a type conversion, converting the \n",
        "# float my_float to an integer\n",
        "my_float = int(my_float)\n",
        "print(my_float)\n",
        "\n",
        "\n",
        "my_string = \"Semantic Computing\"\n",
        "print(my_string)\n",
        "my_list = [\"Semantic\", \"Computing\"]\n",
        "print(my_list)"
      ],
      "execution_count": 2,
      "outputs": [
        {
          "output_type": "stream",
          "text": [
            "7\n",
            "7.0\n",
            "7\n",
            "Semantic Computing\n",
            "['Semantic', 'Computing']\n"
          ],
          "name": "stdout"
        }
      ]
    },
    {
      "metadata": {
        "id": "gYYr9z-eEjS4",
        "colab_type": "code",
        "colab": {
          "base_uri": "https://localhost:8080/",
          "height": 34
        },
        "outputId": "a5b55910-5a4f-4532-e4de-8f1d92e268a2"
      },
      "cell_type": "code",
      "source": [
        "# Exercise: Run 12/(4+3) and 3*3 and print the results of both operations\n",
        "print(\"Solution, \", 12/(4+3), 3*3)"
      ],
      "execution_count": 1,
      "outputs": [
        {
          "output_type": "stream",
          "text": [
            "Solution,  1.7142857142857142 9\n"
          ],
          "name": "stdout"
        }
      ]
    },
    {
      "metadata": {
        "id": "Yi8qazw5Emp4",
        "colab_type": "code",
        "colab": {
          "base_uri": "https://localhost:8080/",
          "height": 52
        },
        "outputId": "8a01cacf-bb13-4abe-bdf7-4223a22a7858"
      },
      "cell_type": "code",
      "source": [
        "# Exercise: Print the variable my_string three times without repeating \n",
        "# the variable itself\n",
        "print(\"Printing the variable my_string 3 times: \", my_string * 3)\n",
        "print(\"And a little prettier: \", (my_string +\" \")* 3)\n"
      ],
      "execution_count": 4,
      "outputs": [
        {
          "output_type": "stream",
          "text": [
            "Printing the variable my_string 3 times:  Semantic ComputingSemantic ComputingSemantic Computing\n",
            "And a little prettier:  Semantic Computing Semantic Computing Semantic Computing \n"
          ],
          "name": "stdout"
        }
      ]
    },
    {
      "metadata": {
        "id": "iQLfxXoaEzAZ",
        "colab_type": "code",
        "colab": {
          "base_uri": "https://localhost:8080/",
          "height": 34
        },
        "outputId": "0043d186-e738-47fd-ef2c-12363f9d3264"
      },
      "cell_type": "code",
      "source": [
        "# Exercise: Print the variable my_list again without repeating it \n",
        "print(\"Printing the list my_list 3 times: \", my_list * 3)"
      ],
      "execution_count": 93,
      "outputs": [
        {
          "output_type": "stream",
          "text": [
            "Printing the list my_list 3 times:  ['Semantic', 'Computing', 'Semantic', 'Computing', 'Semantic', 'Computing']\n"
          ],
          "name": "stdout"
        }
      ]
    },
    {
      "metadata": {
        "id": "5Oz_liBoEhTJ",
        "colab_type": "code",
        "colab": {
          "base_uri": "https://localhost:8080/",
          "height": 69
        },
        "outputId": "507a611b-365c-4b21-f45f-89f7debdded2"
      },
      "cell_type": "code",
      "source": [
        "# Some additional operators\n",
        "print(\"remainder = \", 11 % 3)\n",
        "print(\"squared = \", 11 ** 2)\n",
        "print(\"cubed = \", 11 ** 3)"
      ],
      "execution_count": 6,
      "outputs": [
        {
          "output_type": "stream",
          "text": [
            "remainder =  2\n",
            "squared =  121\n",
            "cubed =  1331\n"
          ],
          "name": "stdout"
        }
      ]
    },
    {
      "metadata": {
        "id": "DOgOijM74rqf",
        "colab_type": "text"
      },
      "cell_type": "markdown",
      "source": [
        "Let's look at some additional string operations. If you can multiply a string with itself as in the cell above, how can you concatente strings?"
      ]
    },
    {
      "metadata": {
        "id": "Sj8ut_tk9Cwg",
        "colab_type": "code",
        "colab": {
          "base_uri": "https://localhost:8080/",
          "height": 52
        },
        "outputId": "f32249c4-d2f6-4328-ace6-bb7f0a7565f3"
      },
      "cell_type": "code",
      "source": [
        "# String operations\n",
        "first = \"first\"\n",
        "second = \"second\"\n",
        "third = first + \" \" + second \n",
        "print(\"First and second concatenated: \", third)\n",
        "\n",
        "one_more = \"Don't worry about apostrophes\"\n",
        "print(one_more)"
      ],
      "execution_count": 94,
      "outputs": [
        {
          "output_type": "stream",
          "text": [
            "First and second concatenated:  first second\n",
            "Don't worry about apostrophes\n"
          ],
          "name": "stdout"
        }
      ]
    },
    {
      "metadata": {
        "id": "VRIR23C6E7jr",
        "colab_type": "code",
        "colab": {
          "base_uri": "https://localhost:8080/",
          "height": 52
        },
        "outputId": "f6fbc218-2fda-4edb-be2e-a64212fae04b"
      },
      "cell_type": "code",
      "source": [
        "# Several variables can be initialized at the same time\n",
        "a,b = 1,2\n",
        "print(\"Initializing and printing: \",a,b,a+b)\n",
        "\n",
        "# However different types cannot be printed together\n",
        "# print(\"This does not work: \", first + a + b)\n",
        "print(\"This works: \", first, a, b)"
      ],
      "execution_count": 8,
      "outputs": [
        {
          "output_type": "stream",
          "text": [
            "Initializing and printing:  1 2 3\n",
            "This works:  first 1 2\n"
          ],
          "name": "stdout"
        }
      ]
    },
    {
      "metadata": {
        "id": "_zG0OdiC_90W",
        "colab_type": "text"
      },
      "cell_type": "markdown",
      "source": [
        "Change the following float, integer, and string in a way that all three are printed with the print statements provided."
      ]
    },
    {
      "metadata": {
        "id": "2likxUgrAmZz",
        "colab_type": "code",
        "colab": {
          "base_uri": "https://localhost:8080/",
          "height": 69
        },
        "outputId": "f39ef676-f0b8-4836-a4a7-0d832c5ff08f"
      },
      "cell_type": "code",
      "source": [
        "# Exercise: change the values of the three variables below so that their \n",
        "# values are printed by the test code\n",
        "mystring = \"hello\"\n",
        "myfloat = 10.0\n",
        "myint = 20\n",
        "\n",
        "# Test code\n",
        "if mystring == \"hello\":\n",
        "    print(\"String: %s\" % mystring)\n",
        "if isinstance(myfloat, float) and myfloat == 10.0:\n",
        "    print(\"Float: %f\" % myfloat)\n",
        "if isinstance(myint, int) and myint == 20:\n",
        "    print(\"Integer: %d\" % myint)"
      ],
      "execution_count": 95,
      "outputs": [
        {
          "output_type": "stream",
          "text": [
            "String: hello\n",
            "Float: 10.000000\n",
            "Integer: 20\n"
          ],
          "name": "stdout"
        }
      ]
    },
    {
      "metadata": {
        "id": "d8Pv2iy_CYgE",
        "colab_type": "text"
      },
      "cell_type": "markdown",
      "source": [
        "The following cell shows you some additional list operations in Python."
      ]
    },
    {
      "metadata": {
        "id": "l0jWIknCDlrS",
        "colab_type": "code",
        "colab": {
          "base_uri": "https://localhost:8080/",
          "height": 69
        },
        "outputId": "d65e7bdd-06b3-47d5-8cd8-377dc1e91a65"
      },
      "cell_type": "code",
      "source": [
        "# Lists and arrays\n",
        "numbers = [1,2,3,4]\n",
        "more_numbers = [5,6,7,8]\n",
        "print(\"Concatenated: \", numbers + more_numbers)\n",
        "print(\"Lenght of lists: \", len(numbers))\n",
        "print(\"Number of elements: \", numbers.count(3))"
      ],
      "execution_count": 10,
      "outputs": [
        {
          "output_type": "stream",
          "text": [
            "Concatenated:  [1, 2, 3, 4, 5, 6, 7, 8]\n",
            "Lenght of lists:  4\n",
            "Number of elements:  1\n"
          ],
          "name": "stdout"
        }
      ]
    },
    {
      "metadata": {
        "id": "jLMEOLeNFuCd",
        "colab_type": "code",
        "colab": {
          "base_uri": "https://localhost:8080/",
          "height": 104
        },
        "outputId": "6366561e-7701-4ad7-d951-14b0ae4a5bb6"
      },
      "cell_type": "code",
      "source": [
        "# Exercise: copy this cell to a new cell in which you indicate your name\n",
        "# Then change the following three arrays so that the test code prints\n",
        "# the provided statements\n",
        "x = object()\n",
        "y = object()\n",
        "\n",
        "x_list = [x]*10\n",
        "y_list = [y]*10\n",
        "big_list = x_list + y_list\n",
        "\n",
        "print(\"x_list contains %d objects\" % len(x_list))\n",
        "print(\"y_list contains %d objects\" % len(y_list))\n",
        "print(\"big_list contains %d objects\" % len(big_list))\n",
        "\n",
        "# Test code\n",
        "if x_list.count(x) == 10 and y_list.count(y) == 10:\n",
        "    print(\"Almost there...\")\n",
        "if big_list.count(x) == 10 and big_list.count(y) == 10:\n",
        "    print(\"Great!\")"
      ],
      "execution_count": 11,
      "outputs": [
        {
          "output_type": "stream",
          "text": [
            "x_list contains 10 objects\n",
            "y_list contains 10 objects\n",
            "big_list contains 20 objects\n",
            "Almost there...\n",
            "Great!\n"
          ],
          "name": "stdout"
        }
      ]
    },
    {
      "metadata": {
        "id": "V2H8t7u_opFk",
        "colab_type": "text"
      },
      "cell_type": "markdown",
      "source": [
        "Python also provides a range of very useful string indexing functions explained below."
      ]
    },
    {
      "metadata": {
        "id": "YIimnHZYoxV_",
        "colab_type": "code",
        "colab": {
          "base_uri": "https://localhost:8080/",
          "height": 173
        },
        "outputId": "0f06eb8c-d5f4-4fd9-f9d7-72ef9af8882a"
      },
      "cell_type": "code",
      "source": [
        "# Indexing\n",
        "print(\"Second letter: \", my_string[1:2])\n",
        "print(\"Second to last letter: \", my_string[1:])\n",
        "print(\"All but letter: \", my_string[:-1])\n",
        "print(\"Only last letter: \", my_string[-1:])\n",
        "print()\n",
        "\n",
        "print(\"Letters 3 to 7: \", my_string[3:7])\n",
        "print(\"Letters 3 to 7 skipping one character: \", my_string[3:7:2])\n",
        "print(\"This is slice syntax of type [start:stop:stepsize]\")\n",
        "print()"
      ],
      "execution_count": 12,
      "outputs": [
        {
          "output_type": "stream",
          "text": [
            "Second letter:  e\n",
            "Second to last letter:  emantic Computing\n",
            "All but letter:  Semantic Computin\n",
            "Only last letter:  g\n",
            "\n",
            "Letters 3 to 7:  anti\n",
            "Letters 3 to 7 skipping one character:  at\n",
            "This is slice syntax of type [start:stop:stepsize]\n",
            "\n"
          ],
          "name": "stdout"
        }
      ]
    },
    {
      "metadata": {
        "id": "6q3_LaidqWup",
        "colab_type": "code",
        "colab": {
          "base_uri": "https://localhost:8080/",
          "height": 139
        },
        "outputId": "8bece302-0068-4460-ec45-4c939a6edbaf"
      },
      "cell_type": "code",
      "source": [
        "# Further string operations\n",
        "print(\"Length of a string: \", len(my_string))\n",
        "print(\"Counting letter 'i': \", my_string.count(\"i\"))\n",
        "\n",
        "print(\"Lower casing \", my_string.lower())\n",
        "print(\"Upper casing \", my_string.upper())\n",
        "print(\"Check for start \", my_string.startswith(\"Semantic\"))\n",
        "print(\"Check for ending \", my_string.endswith(\"g\"), my_string.endswith(\"a\"), my_string.endswith(\"Computing\"))\n",
        "\n",
        "print(\"Splitting the string based on blank space creates a list\", my_string.split(\" \"))\n"
      ],
      "execution_count": 96,
      "outputs": [
        {
          "output_type": "stream",
          "text": [
            "Length of a string:  18\n",
            "Counting letter 'i':  2\n",
            "Lower casing  semantic computing\n",
            "Upper casing  SEMANTIC COMPUTING\n",
            "Check for start  True\n",
            "Check for ending  True False True\n",
            "Splitting the string based on blank space creates a list ['Semantic', 'Computing']\n"
          ],
          "name": "stdout"
        }
      ]
    },
    {
      "metadata": {
        "id": "Oa1-iFaLrA1c",
        "colab_type": "code",
        "colab": {
          "base_uri": "https://localhost:8080/",
          "height": 260
        },
        "outputId": "abe5d454-8394-491c-d7d1-fe822fca775e"
      },
      "cell_type": "code",
      "source": [
        "# Exercise: do the exercises below in this cell\n",
        "tester = \"Hey there! what should this string be?\"\n",
        "\n",
        "# Exercise: Calculate the lenght of the string tester\n",
        "print(\"Length of s = %d\" % len(tester))\n",
        "\n",
        "# First occurrence of \"a\" should be at index 8\n",
        "print(\"The first occurrence of the letter a = %d\" % tester.index(\"a\"))\n",
        "\n",
        "# Exercise: count the number of \"a\"s in the string tester\n",
        "print(\"a occurs %d times\" % tester.count(\"a\"))\n",
        "\n",
        "# Exercise: slice the string as indicated in the text below\n",
        "print(\"The first five characters are '%s'\" %  tester[:5]) # Start to 5\n",
        "print(\"The next five characters are '%s'\" % tester[5:10]) # 5 to 10\n",
        "print(\"The thirteenth character is '%s'\" %  tester[12]) # Just number 12\n",
        "print(\"The characters with odd index are '%s'\" % tester[1::2]) #(0-based indexing)\n",
        "print(\"The last five characters are '%s'\" % tester[-5:]) # 5th-from-last to end\n",
        "\n",
        "# Exercise: change the string to all upper case letters\n",
        "print(\"String in uppercase: %s\" % tester.upper())\n",
        "\n",
        "# Exercise: change the string to all lower case letters\n",
        "print(\"String in lowercase: %s\" % tester.lower())\n",
        "\n",
        "# Exercise: Check how the string starts\n",
        "if tester.startswith(\"Hey\"):\n",
        "    print(\"String starts with 'Hey'. Good!\")\n",
        "\n",
        "# Exercise:  Check how a string ends\n",
        "if tester.startswith(\"be?\"):\n",
        "    print(\"String ends with 'be?'. Good!\")\n",
        "\n",
        "# Exercise: Check for start and ending \n",
        "if tester.startswith(\"H\") and tester.endswith(\"?\"): \n",
        "  print(\"String starts with 'H' and ends with '?'\")\n",
        "\n",
        "# Exercise: Check if string contains an \"a\" or a \"x\"\n",
        "if \"a\" in tester or \"x\" in tester:\n",
        "  print(\"Seems like there is an 'a' or a 'x' in this string\")\n",
        "  \n",
        "# Exercise: Split the string into separate strings,\n",
        "# each containing only a word\n",
        "print(\"Split the words of the string: %s\" % tester.split())"
      ],
      "execution_count": 14,
      "outputs": [
        {
          "output_type": "stream",
          "text": [
            "Length of s = 38\n",
            "The first occurrence of the letter a = 13\n",
            "a occurs 1 times\n",
            "The first five characters are 'Hey t'\n",
            "The next five characters are 'here!'\n",
            "The thirteenth character is 'h'\n",
            "The characters with odd index are 'e hr!wa hudti tigb?'\n",
            "The last five characters are 'g be?'\n",
            "String in uppercase: HEY THERE! WHAT SHOULD THIS STRING BE?\n",
            "String in lowercase: hey there! what should this string be?\n",
            "String starts with 'Hey'. Good!\n",
            "String starts with 'H' and ends with '?'\n",
            "Seems like there is an 'a' or a 'x' in this string\n",
            "Split the words of the string: ['Hey', 'there!', 'what', 'should', 'this', 'string', 'be?']\n"
          ],
          "name": "stdout"
        }
      ]
    },
    {
      "metadata": {
        "id": "N5mEqPbUniJ3",
        "colab_type": "text"
      },
      "cell_type": "markdown",
      "source": [
        "----------"
      ]
    },
    {
      "metadata": {
        "id": "wjWERhaDw9k2",
        "colab_type": "text"
      },
      "cell_type": "markdown",
      "source": [
        "# Lesson 1: The LESK algorithm \n",
        "\n",
        "Implement an algorithm for Word Sense Disambiguation using WordNet. You can use the Lesk algorithm from the lecture slide, which is provided below for your convenience. \n",
        "\n",
        "Store the two text files of Tutorial1 somewhere in your Google Drive or on your computer. When you run the code for the first time, outcomment the two lines indicated below. You will be prompted to \"Browse\" for the files, where you can upload them. After that, outcomment the line that says files.upload() by using the # symbol so that you do not have to upload the files each time you run the code. \n",
        "\n",
        "\n"
      ]
    },
    {
      "metadata": {
        "id": "FEaHj0r8HqUF",
        "colab_type": "code",
        "colab": {
          "base_uri": "https://localhost:8080/",
          "height": 1788
        },
        "outputId": "27798594-0419-439a-fb4b-a8a047f142cf"
      },
      "cell_type": "code",
      "source": [
        "import nltk \n",
        "\n",
        "from nltk.corpus import wordnet as wn\n",
        "from google.colab import files\n",
        "\n",
        "# Outcomment the following two lines the first time you run this code then\n",
        "# put comment back in\n",
        "#nltk.download('wordnet')\n",
        "#files.upload() \n",
        "\n",
        "text = open(\"tutorial1.txt\", \"r\")\n",
        "\n",
        "def lesk(sentence, ambiguous_word):\n",
        "    max_overlaps = 0\n",
        "    lesk_dictionary = []\n",
        "    lesk_sense = \"\"\n",
        "    context = sentence.split()\n",
        "\n",
        "    for sense in wn.synsets(ambiguous_word):\n",
        "        lesk_dictionary += sense.definition().split()\n",
        "        lesk_dictionary += sense.lemma_names()\n",
        "          \n",
        "        overlaps = set(lesk_dictionary).intersection(context)\n",
        "\n",
        "        if len(overlaps) > max_overlaps:\n",
        "            lesk_sense = sense\n",
        "            max_overlaps = len(overlaps)  \n",
        "    return str(lesk_sense)\n",
        "\n",
        "\n",
        "corr_results = 0\n",
        "total = 0\n",
        "\n",
        "for line in text.readlines()[1:]:\n",
        "    total += 1\n",
        "    # Exercise: the input line contains the sentence, ambiguous word, and\n",
        "    # target sense; split the input line to obtain the individual elements\n",
        "    ambiguous_word = line.split(\";\")[0]\n",
        "    sentence = line.split(\";\")[3]\n",
        "    target_sense = line.split(\";\")[4]\n",
        "\n",
        "    print(\"Word: \", ambiguous_word)\n",
        "    print(\"Sentence: \", sentence) \n",
        "    print(\"Target sense: \", target_sense.strip())\n",
        "    \n",
        "    # Exercise: call the lesk algorithm in the line below\n",
        "    # by passing the right arguments to lesk()\n",
        "    lesk_result = lesk(sentence, ambiguous_word)\n",
        "    print(\"Predicted sense: \", lesk_result, \"\\n\") \n",
        "    \n",
        "    if lesk_result == target_sense.strip():\n",
        "      corr_results += 1\n",
        "\n",
        "print(\"Correct results: \", corr_results)\n",
        "print(\"Percentage: \", corr_results/total)"
      ],
      "execution_count": 80,
      "outputs": [
        {
          "output_type": "stream",
          "text": [
            "Word:  bank\n",
            "Sentence:  I went to the bank to deposit my money\n",
            "Target sense:  Synset('depository_financial_institution.n.01')\n",
            "Predicted sense:  Synset('deposit.v.02') \n",
            "\n",
            "Word:  bank\n",
            "Sentence:  The bank on the riverside was full of dead fishes\n",
            "Target sense:  Synset('bank.n.01')\n",
            "Predicted sense:  Synset('bank.n.01') \n",
            "\n",
            "Word:  plant\n",
            "Sentence:  The workers at the industrial plant were overworked\n",
            "Target sense:  Synset('plant.n.01')\n",
            "Predicted sense:  Synset('plant.n.02') \n",
            "\n",
            "Word:  tree\n",
            "Sentence:  The tree in the garden is no longer bearing flowers\n",
            "Target sense:  Synset('tree.n.01')\n",
            "Predicted sense:  Synset('tree.n.01') \n",
            "\n",
            "Word:  plant\n",
            "Sentence:  The plant in the garden is no longer bearing flowers\n",
            "Target sense:  Synset('plant.n.02')\n",
            "Predicted sense:  Synset('plant.n.03') \n",
            "\n",
            "Word:  add\n",
            "Sentence:  Add the number of people in this town to those of the neighboring town\n",
            "Target sense:  Synset('total.v.02')\n",
            "Predicted sense:  Synset('add.v.01') \n",
            "\n",
            "Word:  add\n",
            "Sentence:  Add some extra plates to the dinner table\n",
            "Target sense:  Synset('add.v.01')\n",
            "Predicted sense:  Synset('add.v.01') \n",
            "\n",
            "Word:  add\n",
            "Sentence:  The music added a lot to the play\n",
            "Target sense:  Synset('lend.v.01')\n",
            "Predicted sense:  Synset('add.v.01') \n",
            "\n",
            "Word:  color\n",
            "Sentence:  The characters were delineated with exceptional vividness and color\n",
            "Target sense:  Synset('color.n.02')\n",
            "Predicted sense:  Synset('color.n.04') \n",
            "\n",
            "Word:  color\n",
            "Sentence:  The Puritan Period was lacking in color\n",
            "Target sense:  Synset('color.n.02')\n",
            "Predicted sense:  Synset('color.n.07') \n",
            "\n",
            "Word:  high\n",
            "Sentence:  The high temperature keeps on rising\n",
            "Target sense:  Synset('high.a.01')\n",
            "Predicted sense:  Synset('high.n.01') \n",
            "\n",
            "Word:  high\n",
            "Sentence:  He has a high opinion of himself\n",
            "Target sense:  Synset('high.a.01')\n",
            "Predicted sense:  Synset('high.n.02') \n",
            "\n",
            "Word:  book\n",
            "Sentence:  I am reading a book on economics\n",
            "Target sense:  Synset('book.n.01')\n",
            "Predicted sense:  Synset('book.n.01') \n",
            "\n",
            "Word:  book\n",
            "Sentence:  He bought a book of stamps\n",
            "Target sense:  Synset('book.n.02')\n",
            "Predicted sense:  Synset('book.n.11') \n",
            "\n",
            "Word:  book\n",
            "Sentence:  I still need to book my flight to Japan\n",
            "Target sense:  Synset('reserve.v.04')\n",
            "Predicted sense:  Synset('koran.n.01') \n",
            "\n",
            "Word:  kill\n",
            "Sentence:  The comedian was so funny, he was killing me\n",
            "Target sense:  Synset('kill.v.06')\n",
            "Predicted sense:  Synset('kill.v.07') \n",
            "\n",
            "Word:  kill\n",
            "Sentence:  She was killed in the collision of three cars\n",
            "Target sense:  Synset('kill.v.10')\n",
            "Predicted sense:  Synset('kill.v.07') \n",
            "\n",
            "Word:  call\n",
            "Sentence:  She called your cell phone four times\n",
            "Target sense:  Synset('call.v.03')\n",
            "Predicted sense:  Synset('call.v.03') \n",
            "\n",
            "Word:  call\n",
            "Sentence:  I will call on him later\n",
            "Target sense:  Synset('visit.v.03')\n",
            "Predicted sense:  Synset('call.v.20') \n",
            "\n",
            "Word:  date\n",
            "Sentence:  We have not heard from them to date\n",
            "Target sense:  Synset('date.n.05')\n",
            "Predicted sense:  Synset('go_steady.v.01') \n",
            "\n",
            "Correct results:  5\n",
            "Percentage:  0.25\n"
          ],
          "name": "stdout"
        }
      ]
    },
    {
      "metadata": {
        "id": "tHwQybPw3Qkr",
        "colab_type": "text"
      },
      "cell_type": "markdown",
      "source": [
        "The above implementation did not exactly achieve a very good accuarcy. Look at the output and try to find some of the biggest problems. \n",
        "\n",
        "\n",
        "The Lesk algorithm is very basic and only takes the intersection of words in the definition of the word sense and the input text. What could we do to improve on this simple algorithm? How does this improvement affect the accuracy? Create a code cell below where you provide your improved version of the lesk algorithm.\n"
      ]
    },
    {
      "metadata": {
        "id": "-wxAkFTR3PrD",
        "colab_type": "code",
        "colab": {
          "base_uri": "https://localhost:8080/",
          "height": 1788
        },
        "outputId": "9dae10ce-5f4b-4045-b69b-58cc8a9fc31f"
      },
      "cell_type": "code",
      "source": [
        "text = open(\"tutorial1.txt\", \"r\")\n",
        "\n",
        "  \n",
        "# Exercise: improve the above simple Lesk algorithm \n",
        "def lesk(sentence, ambiguous_word, pos=None, hyperhypo=True):\n",
        "    max_overlaps = 0\n",
        "    lesk_dictionary = []\n",
        "    lesk_sense = \"\"\n",
        "    context = sentence.split()\n",
        "\n",
        "    for sense in wn.synsets(ambiguous_word, pos):\n",
        "        lesk_dictionary += sense.definition().split()\n",
        "        lesk_dictionary += sense.lemma_names()        \n",
        "        \n",
        "        for example in sense.examples():\n",
        "          lesk_dictionary += example.split()\n",
        "              \n",
        "        if hyperhypo == True: \n",
        "          for element in sense.hyponyms() + sense.hypernyms():\n",
        "            lesk_dictionary += element.definition().split()\n",
        "            lesk_dictionary += element.lemma_names()\n",
        "            for hyperhyp_example in element.examples():\n",
        "              lesk_dictionary += hyperhyp_example.split()\n",
        "          \n",
        "        overlaps = set(lesk_dictionary).intersection(context)\n",
        "\n",
        "        if len(overlaps) > max_overlaps:\n",
        "            lesk_sense = sense\n",
        "            max_overlaps = len(overlaps)  \n",
        "    return str(lesk_sense)\n",
        "\n",
        "\n",
        "corr_results = 0\n",
        "total = 0\n",
        "\n",
        "for line in text.readlines()[1:]:\n",
        "    total += 1\n",
        "    # Exercise: the input line contains the sentence, ambiguous word, and\n",
        "    # target sense; split the input line to obtain the individual elements\n",
        "    ambiguous_word = line.split(\";\")[0]\n",
        "    sentence = line.split(\";\")[3]\n",
        "    target_sense = line.split(\";\")[4]\n",
        "    \n",
        "    # Optimizing: adding Part-of-speec tags\n",
        "    pos = line.split(\";\")[2]\n",
        "\n",
        "    print(\"Word: \", ambiguous_word)\n",
        "    print(\"Sentence: \", sentence) \n",
        "    print(\"Target sense: \", target_sense.strip())\n",
        "    \n",
        "    # Exercise: call the lesk algorithm in the line below\n",
        "    # by passing the right arguments to lesk()\n",
        "    lesk_result = lesk(sentence, ambiguous_word, pos, True)\n",
        "    print(\"Predicted sense: \", lesk_result, \"\\n\") \n",
        "    \n",
        "    if lesk_result == target_sense.strip():\n",
        "      corr_results += 1\n",
        "\n",
        "print(\"Correct results: \", corr_results)\n",
        "print(\"Percentage: \", corr_results/total)"
      ],
      "execution_count": 92,
      "outputs": [
        {
          "output_type": "stream",
          "text": [
            "Word:  bank\n",
            "Sentence:  I went to the bank to deposit my money\n",
            "Target sense:  Synset('depository_financial_institution.n.01')\n",
            "Predicted sense:  Synset('bank.n.10') \n",
            "\n",
            "Word:  bank\n",
            "Sentence:  The bank on the riverside was full of dead fishes\n",
            "Target sense:  Synset('bank.n.01')\n",
            "Predicted sense:  Synset('bank.n.01') \n",
            "\n",
            "Word:  plant\n",
            "Sentence:  The workers at the industrial plant were overworked\n",
            "Target sense:  Synset('plant.n.01')\n",
            "Predicted sense:  Synset('plant.n.02') \n",
            "\n",
            "Word:  tree\n",
            "Sentence:  The tree in the garden is no longer bearing flowers\n",
            "Target sense:  Synset('tree.n.01')\n",
            "Predicted sense:  Synset('tree.n.01') \n",
            "\n",
            "Word:  plant\n",
            "Sentence:  The plant in the garden is no longer bearing flowers\n",
            "Target sense:  Synset('plant.n.02')\n",
            "Predicted sense:  Synset('plant.n.02') \n",
            "\n",
            "Word:  add\n",
            "Sentence:  Add the number of people in this town to those of the neighboring town\n",
            "Target sense:  Synset('total.v.02')\n",
            "Predicted sense:  Synset('total.v.02') \n",
            "\n",
            "Word:  add\n",
            "Sentence:  Add some extra plates to the dinner table\n",
            "Target sense:  Synset('add.v.01')\n",
            "Predicted sense:  Synset('add.v.01') \n",
            "\n",
            "Word:  add\n",
            "Sentence:  The music added a lot to the play\n",
            "Target sense:  Synset('lend.v.01')\n",
            "Predicted sense:  Synset('lend.v.01') \n",
            "\n",
            "Word:  color\n",
            "Sentence:  The characters were delineated with exceptional vividness and color\n",
            "Target sense:  Synset('color.n.02')\n",
            "Predicted sense:  Synset('color.n.02') \n",
            "\n",
            "Word:  color\n",
            "Sentence:  The Puritan Period was lacking in color\n",
            "Target sense:  Synset('color.n.02')\n",
            "Predicted sense:  Synset('color.n.02') \n",
            "\n",
            "Word:  high\n",
            "Sentence:  The high temperature keeps on rising\n",
            "Target sense:  Synset('high.a.01')\n",
            "Predicted sense:  Synset('high.a.01') \n",
            "\n",
            "Word:  high\n",
            "Sentence:  He has a high opinion of himself\n",
            "Target sense:  Synset('high.a.01')\n",
            "Predicted sense:  Synset('high.a.01') \n",
            "\n",
            "Word:  book\n",
            "Sentence:  I am reading a book on economics\n",
            "Target sense:  Synset('book.n.01')\n",
            "Predicted sense:  Synset('book.n.01') \n",
            "\n",
            "Word:  book\n",
            "Sentence:  He bought a book of stamps\n",
            "Target sense:  Synset('book.n.02')\n",
            "Predicted sense:  Synset('book.n.11') \n",
            "\n",
            "Word:  book\n",
            "Sentence:  I still need to book my flight to Japan\n",
            "Target sense:  Synset('reserve.v.04')\n",
            "Predicted sense:  Synset('reserve.v.04') \n",
            "\n",
            "Word:  kill\n",
            "Sentence:  The comedian was so funny, he was killing me\n",
            "Target sense:  Synset('kill.v.06')\n",
            "Predicted sense:  Synset('kill.v.13') \n",
            "\n",
            "Word:  kill\n",
            "Sentence:  She was killed in the collision of three cars\n",
            "Target sense:  Synset('kill.v.10')\n",
            "Predicted sense:  Synset('kill.v.10') \n",
            "\n",
            "Word:  call\n",
            "Sentence:  She called your cell phone four times\n",
            "Target sense:  Synset('call.v.03')\n",
            "Predicted sense:  Synset('call.v.24') \n",
            "\n",
            "Word:  call\n",
            "Sentence:  I will call on him later\n",
            "Target sense:  Synset('visit.v.03')\n",
            "Predicted sense:  Synset('call.v.11') \n",
            "\n",
            "Word:  date\n",
            "Sentence:  We have not heard from them to date\n",
            "Target sense:  Synset('date.n.05')\n",
            "Predicted sense:  Synset('date.n.05') \n",
            "\n",
            "Correct results:  14\n",
            "Percentage:  0.7\n"
          ],
          "name": "stdout"
        }
      ]
    }
  ]
}